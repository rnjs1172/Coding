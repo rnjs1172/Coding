{
 "cells": [
  {
   "cell_type": "markdown",
   "metadata": {},
   "source": [
    "## 도장깨기 LEVEL 1 "
   ]
  },
  {
   "cell_type": "markdown",
   "metadata": {},
   "source": [
    "###    point1 - var.select(\"#course > .course > a\") \n",
    "###    point2 - var.extend()  & var.append() 의 차이\n",
    "                extend 는 obj 를 잘게 쪼개서 다른 객체로 저장\n",
    "                append 는 obj 를 하나로 보고 저장"
   ]
  },
  {
   "cell_type": "code",
   "execution_count": null,
   "metadata": {
    "collapsed": true
   },
   "outputs": [],
   "source": [
    "## CF) lv1 이랑 lv2 의 페이지소스 모습차이는 거의 없는 것 같다."
   ]
  },
  {
   "cell_type": "code",
   "execution_count": 1,
   "metadata": {
    "collapsed": true
   },
   "outputs": [],
   "source": [
    "import requests\n",
    "from bs4 import BeautifulSoup"
   ]
  },
  {
   "cell_type": "code",
   "execution_count": 9,
   "metadata": {},
   "outputs": [
    {
     "name": "stdout",
     "output_type": "stream",
     "text": [
      "<a href=\"https://nomade.kr/vod/setup/\">개발환경 구축하기</a>\n",
      "<a href=\"https://nomade.kr/vod/python/\">파이썬 차근차근 시작하기</a>\n",
      "<a href=\"https://nomade.kr/vod/crawling/\">크롤링 차근차근 시작하기</a>\n",
      "<a href=\"https://nomade.kr/vod/automation/\">파이썬으로 업무 자동화</a>\n",
      "<a href=\"https://nomade.kr/vod/django/\">장고 - 기본편</a>\n",
      "<a href=\"https://nomade.kr/vod/djangogirls/\">장고걸스 튜토리얼</a>\n",
      "<a href=\"https://nomade.kr/vod/form/\">장고 - Form/ModelForm 잘 알고 쓰기</a>\n",
      "<a href=\"https://nomade.kr/vod/cbv/\">장고 - 클래스 기반 뷰. 잘 알고 쓰기</a>\n",
      "<a href=\"https://nomade.kr/vod/payment/\">장고 - 결제 시스템 연동</a>\n",
      "<a href=\"https://nomade.kr/vod/frontend/\">장고 - 웹 프론트엔드 시작편</a>\n",
      "<a href=\"https://nomade.kr/vod/widgets/\">장고 - 다양한 위젯 만들기</a>\n",
      "<a href=\"https://nomade.kr/vod/apiserver/\">장고 - API 서버 만들기 및 초간단 안드로이드 앱 만들기</a>\n",
      "<a href=\"https://nomade.kr/vod/hybrid/\">장고 - 하이브리드 앱 만들기</a>\n",
      "<a href=\"https://nomade.kr/vod/deploy/\">장고 - 서비스 배포하기</a>\n",
      "<a href=\"https://nomade.kr/vod/django-baemin/\">장고 - 실전편 (Feat. 배달의 민족 St. 만들기)</a>\n",
      "<a href=\"https://nomade.kr/vod/django-instagram/\">장고 - 실전편 (Feat. 인스타그램 St. 만들기)</a>\n"
     ]
    }
   ],
   "source": [
    "page_source = requests.get(\"https://askdjango.github.io/lv1/\").text ## 페이지 소스 가져오기\n",
    "beausoup = BeautifulSoup(page_source,\"html.parser\") ## 페이지 소스를 보기 좋은 형태로\n",
    "for tag in beausoup.select(\"#course_list > .course > a\"): ### 개발도구 element 하단의 path 를 이용할때는 select 함수 이용\n",
    "        print(tag)\n",
    "        "
   ]
  },
  {
   "cell_type": "code",
   "execution_count": 19,
   "metadata": {},
   "outputs": [
    {
     "name": "stdout",
     "output_type": "stream",
     "text": [
      "개발환경 구축하기\n",
      "파이썬 차근차근 시작하기\n",
      "크롤링 차근차근 시작하기\n",
      "파이썬으로 업무 자동화\n",
      "장고 - 기본편\n",
      "장고걸스 튜토리얼\n",
      "장고 - Form/ModelForm 잘 알고 쓰기\n",
      "장고 - 클래스 기반 뷰. 잘 알고 쓰기\n",
      "장고 - 결제 시스템 연동\n",
      "장고 - 웹 프론트엔드 시작편\n",
      "장고 - 다양한 위젯 만들기\n",
      "장고 - API 서버 만들기 및 초간단 안드로이드 앱 만들기\n",
      "장고 - 하이브리드 앱 만들기\n",
      "장고 - 서비스 배포하기\n",
      "장고 - 실전편 (Feat. 배달의 민족 St. 만들기)\n",
      "장고 - 실전편 (Feat. 인스타그램 St. 만들기)\n"
     ]
    }
   ],
   "source": [
    "for tag in beausoup.select(\"#course_list > .course > a\"):\n",
    "    print(tag.text)"
   ]
  },
  {
   "cell_type": "code",
   "execution_count": 18,
   "metadata": {},
   "outputs": [
    {
     "name": "stdout",
     "output_type": "stream",
     "text": [
      "https://nomade.kr/vod/setup/\n",
      "https://nomade.kr/vod/python/\n",
      "https://nomade.kr/vod/crawling/\n",
      "https://nomade.kr/vod/automation/\n",
      "https://nomade.kr/vod/django/\n",
      "https://nomade.kr/vod/djangogirls/\n",
      "https://nomade.kr/vod/form/\n",
      "https://nomade.kr/vod/cbv/\n",
      "https://nomade.kr/vod/payment/\n",
      "https://nomade.kr/vod/frontend/\n",
      "https://nomade.kr/vod/widgets/\n",
      "https://nomade.kr/vod/apiserver/\n",
      "https://nomade.kr/vod/hybrid/\n",
      "https://nomade.kr/vod/deploy/\n",
      "https://nomade.kr/vod/django-baemin/\n",
      "https://nomade.kr/vod/django-instagram/\n"
     ]
    }
   ],
   "source": [
    "for tag in beausoup.select(\"#course_list > .course > a\"):\n",
    "    print(tag['href'])"
   ]
  },
  {
   "cell_type": "markdown",
   "metadata": {},
   "source": [
    "###### html 의 문법상  어디가 text 고 어디가 href 지 구분 할굴 알아야한다"
   ]
  },
  {
   "cell_type": "code",
   "execution_count": 20,
   "metadata": {},
   "outputs": [
    {
     "name": "stdout",
     "output_type": "stream",
     "text": [
      "개발환경 구축하기 https://nomade.kr/vod/setup/\n",
      "파이썬 차근차근 시작하기 https://nomade.kr/vod/python/\n",
      "크롤링 차근차근 시작하기 https://nomade.kr/vod/crawling/\n",
      "파이썬으로 업무 자동화 https://nomade.kr/vod/automation/\n",
      "장고 - 기본편 https://nomade.kr/vod/django/\n",
      "장고걸스 튜토리얼 https://nomade.kr/vod/djangogirls/\n",
      "장고 - Form/ModelForm 잘 알고 쓰기 https://nomade.kr/vod/form/\n",
      "장고 - 클래스 기반 뷰. 잘 알고 쓰기 https://nomade.kr/vod/cbv/\n",
      "장고 - 결제 시스템 연동 https://nomade.kr/vod/payment/\n",
      "장고 - 웹 프론트엔드 시작편 https://nomade.kr/vod/frontend/\n",
      "장고 - 다양한 위젯 만들기 https://nomade.kr/vod/widgets/\n",
      "장고 - API 서버 만들기 및 초간단 안드로이드 앱 만들기 https://nomade.kr/vod/apiserver/\n",
      "장고 - 하이브리드 앱 만들기 https://nomade.kr/vod/hybrid/\n",
      "장고 - 서비스 배포하기 https://nomade.kr/vod/deploy/\n",
      "장고 - 실전편 (Feat. 배달의 민족 St. 만들기) https://nomade.kr/vod/django-baemin/\n",
      "장고 - 실전편 (Feat. 인스타그램 St. 만들기) https://nomade.kr/vod/django-instagram/\n"
     ]
    }
   ],
   "source": [
    "## 결론 부분\n",
    "for tag in beausoup.select(\" #course_list > .course > a\"):\n",
    "    print(tag.text,tag['href'])"
   ]
  },
  {
   "cell_type": "markdown",
   "metadata": {},
   "source": [
    "### +a ) 해보기"
   ]
  },
  {
   "cell_type": "code",
   "execution_count": 21,
   "metadata": {
    "collapsed": true
   },
   "outputs": [],
   "source": [
    "import pandas as pd"
   ]
  },
  {
   "cell_type": "code",
   "execution_count": 26,
   "metadata": {},
   "outputs": [
    {
     "data": {
      "text/plain": [
       "16"
      ]
     },
     "execution_count": 26,
     "metadata": {},
     "output_type": "execute_result"
    }
   ],
   "source": [
    "#### 일단 list 의 길이 알아보기\n",
    "test = []\n",
    "\n",
    "for tag in beausoup.select(\"#course_list > .course > a\"):\n",
    "    test.append(tag[\"href\"])\n",
    "len(test)"
   ]
  },
  {
   "cell_type": "code",
   "execution_count": 54,
   "metadata": {},
   "outputs": [],
   "source": [
    "all = []\n",
    "step = []\n",
    "title = []\n",
    "path = []\n",
    "for i in range(1,17):\n",
    "    stage = \"%d step\"%i\n",
    "    step.append(stage)\n",
    "for tag in beausoup.select(\"#course_list > .course > a\"):\n",
    "    title.append(tag.text)\n",
    "    path.append(tag[\"href\"])\n",
    "for i in range(1,17):\n",
    "    all.append([])\n",
    "for i in range(1,17):\n",
    "    all[i-1].append(step[i-1])## extend 는 str의 글자 하나 하나를 나누어 준다!! \n",
    "    all[i-1].append(title[i-1])\n",
    "    all[i-1].append(path[i-1])"
   ]
  },
  {
   "cell_type": "code",
   "execution_count": 56,
   "metadata": {},
   "outputs": [],
   "source": [
    "dataframe = pd.DataFrame(all)"
   ]
  },
  {
   "cell_type": "code",
   "execution_count": 57,
   "metadata": {},
   "outputs": [
    {
     "data": {
      "text/html": [
       "<div>\n",
       "<style>\n",
       "    .dataframe thead tr:only-child th {\n",
       "        text-align: right;\n",
       "    }\n",
       "\n",
       "    .dataframe thead th {\n",
       "        text-align: left;\n",
       "    }\n",
       "\n",
       "    .dataframe tbody tr th {\n",
       "        vertical-align: top;\n",
       "    }\n",
       "</style>\n",
       "<table border=\"1\" class=\"dataframe\">\n",
       "  <thead>\n",
       "    <tr style=\"text-align: right;\">\n",
       "      <th></th>\n",
       "      <th>0</th>\n",
       "      <th>1</th>\n",
       "      <th>2</th>\n",
       "    </tr>\n",
       "  </thead>\n",
       "  <tbody>\n",
       "    <tr>\n",
       "      <th>0</th>\n",
       "      <td>1 step</td>\n",
       "      <td>개발환경 구축하기</td>\n",
       "      <td>https://nomade.kr/vod/setup/</td>\n",
       "    </tr>\n",
       "    <tr>\n",
       "      <th>1</th>\n",
       "      <td>2 step</td>\n",
       "      <td>파이썬 차근차근 시작하기</td>\n",
       "      <td>https://nomade.kr/vod/python/</td>\n",
       "    </tr>\n",
       "    <tr>\n",
       "      <th>2</th>\n",
       "      <td>3 step</td>\n",
       "      <td>크롤링 차근차근 시작하기</td>\n",
       "      <td>https://nomade.kr/vod/crawling/</td>\n",
       "    </tr>\n",
       "    <tr>\n",
       "      <th>3</th>\n",
       "      <td>4 step</td>\n",
       "      <td>파이썬으로 업무 자동화</td>\n",
       "      <td>https://nomade.kr/vod/automation/</td>\n",
       "    </tr>\n",
       "    <tr>\n",
       "      <th>4</th>\n",
       "      <td>5 step</td>\n",
       "      <td>장고 - 기본편</td>\n",
       "      <td>https://nomade.kr/vod/django/</td>\n",
       "    </tr>\n",
       "    <tr>\n",
       "      <th>5</th>\n",
       "      <td>6 step</td>\n",
       "      <td>장고걸스 튜토리얼</td>\n",
       "      <td>https://nomade.kr/vod/djangogirls/</td>\n",
       "    </tr>\n",
       "    <tr>\n",
       "      <th>6</th>\n",
       "      <td>7 step</td>\n",
       "      <td>장고 - Form/ModelForm 잘 알고 쓰기</td>\n",
       "      <td>https://nomade.kr/vod/form/</td>\n",
       "    </tr>\n",
       "    <tr>\n",
       "      <th>7</th>\n",
       "      <td>8 step</td>\n",
       "      <td>장고 - 클래스 기반 뷰. 잘 알고 쓰기</td>\n",
       "      <td>https://nomade.kr/vod/cbv/</td>\n",
       "    </tr>\n",
       "    <tr>\n",
       "      <th>8</th>\n",
       "      <td>9 step</td>\n",
       "      <td>장고 - 결제 시스템 연동</td>\n",
       "      <td>https://nomade.kr/vod/payment/</td>\n",
       "    </tr>\n",
       "    <tr>\n",
       "      <th>9</th>\n",
       "      <td>10 step</td>\n",
       "      <td>장고 - 웹 프론트엔드 시작편</td>\n",
       "      <td>https://nomade.kr/vod/frontend/</td>\n",
       "    </tr>\n",
       "    <tr>\n",
       "      <th>10</th>\n",
       "      <td>11 step</td>\n",
       "      <td>장고 - 다양한 위젯 만들기</td>\n",
       "      <td>https://nomade.kr/vod/widgets/</td>\n",
       "    </tr>\n",
       "    <tr>\n",
       "      <th>11</th>\n",
       "      <td>12 step</td>\n",
       "      <td>장고 - API 서버 만들기 및 초간단 안드로이드 앱 만들기</td>\n",
       "      <td>https://nomade.kr/vod/apiserver/</td>\n",
       "    </tr>\n",
       "    <tr>\n",
       "      <th>12</th>\n",
       "      <td>13 step</td>\n",
       "      <td>장고 - 하이브리드 앱 만들기</td>\n",
       "      <td>https://nomade.kr/vod/hybrid/</td>\n",
       "    </tr>\n",
       "    <tr>\n",
       "      <th>13</th>\n",
       "      <td>14 step</td>\n",
       "      <td>장고 - 서비스 배포하기</td>\n",
       "      <td>https://nomade.kr/vod/deploy/</td>\n",
       "    </tr>\n",
       "    <tr>\n",
       "      <th>14</th>\n",
       "      <td>15 step</td>\n",
       "      <td>장고 - 실전편 (Feat. 배달의 민족 St. 만들기)</td>\n",
       "      <td>https://nomade.kr/vod/django-baemin/</td>\n",
       "    </tr>\n",
       "    <tr>\n",
       "      <th>15</th>\n",
       "      <td>16 step</td>\n",
       "      <td>장고 - 실전편 (Feat. 인스타그램 St. 만들기)</td>\n",
       "      <td>https://nomade.kr/vod/django-instagram/</td>\n",
       "    </tr>\n",
       "  </tbody>\n",
       "</table>\n",
       "</div>"
      ],
      "text/plain": [
       "          0                                  1  \\\n",
       "0    1 step                          개발환경 구축하기   \n",
       "1    2 step                      파이썬 차근차근 시작하기   \n",
       "2    3 step                      크롤링 차근차근 시작하기   \n",
       "3    4 step                       파이썬으로 업무 자동화   \n",
       "4    5 step                           장고 - 기본편   \n",
       "5    6 step                          장고걸스 튜토리얼   \n",
       "6    7 step        장고 - Form/ModelForm 잘 알고 쓰기   \n",
       "7    8 step             장고 - 클래스 기반 뷰. 잘 알고 쓰기   \n",
       "8    9 step                     장고 - 결제 시스템 연동   \n",
       "9   10 step                   장고 - 웹 프론트엔드 시작편   \n",
       "10  11 step                    장고 - 다양한 위젯 만들기   \n",
       "11  12 step  장고 - API 서버 만들기 및 초간단 안드로이드 앱 만들기   \n",
       "12  13 step                   장고 - 하이브리드 앱 만들기   \n",
       "13  14 step                      장고 - 서비스 배포하기   \n",
       "14  15 step    장고 - 실전편 (Feat. 배달의 민족 St. 만들기)   \n",
       "15  16 step     장고 - 실전편 (Feat. 인스타그램 St. 만들기)   \n",
       "\n",
       "                                          2  \n",
       "0              https://nomade.kr/vod/setup/  \n",
       "1             https://nomade.kr/vod/python/  \n",
       "2           https://nomade.kr/vod/crawling/  \n",
       "3         https://nomade.kr/vod/automation/  \n",
       "4             https://nomade.kr/vod/django/  \n",
       "5        https://nomade.kr/vod/djangogirls/  \n",
       "6               https://nomade.kr/vod/form/  \n",
       "7                https://nomade.kr/vod/cbv/  \n",
       "8            https://nomade.kr/vod/payment/  \n",
       "9           https://nomade.kr/vod/frontend/  \n",
       "10           https://nomade.kr/vod/widgets/  \n",
       "11         https://nomade.kr/vod/apiserver/  \n",
       "12            https://nomade.kr/vod/hybrid/  \n",
       "13            https://nomade.kr/vod/deploy/  \n",
       "14     https://nomade.kr/vod/django-baemin/  \n",
       "15  https://nomade.kr/vod/django-instagram/  "
      ]
     },
     "execution_count": 57,
     "metadata": {},
     "output_type": "execute_result"
    }
   ],
   "source": [
    "dataframe"
   ]
  },
  {
   "cell_type": "code",
   "execution_count": null,
   "metadata": {
    "collapsed": true
   },
   "outputs": [],
   "source": []
  }
 ],
 "metadata": {
  "kernelspec": {
   "display_name": "Python 3",
   "language": "python",
   "name": "python3"
  },
  "language_info": {
   "codemirror_mode": {
    "name": "ipython",
    "version": 3
   },
   "file_extension": ".py",
   "mimetype": "text/x-python",
   "name": "python",
   "nbconvert_exporter": "python",
   "pygments_lexer": "ipython3",
   "version": "3.6.1"
  }
 },
 "nbformat": 4,
 "nbformat_minor": 2
}
