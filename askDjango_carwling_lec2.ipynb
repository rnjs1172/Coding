{
 "cells": [
  {
   "cell_type": "markdown",
   "metadata": {
    "collapsed": true
   },
   "source": [
    "## 웝툰으로 커스텀헤더 지정\n",
    "###   헤더에서 Referer 으로 경로지정"
   ]
  },
  {
   "cell_type": "code",
   "execution_count": 16,
   "metadata": {
    "collapsed": true
   },
   "outputs": [],
   "source": [
    "import os\n",
    "import requests"
   ]
  },
  {
   "cell_type": "code",
   "execution_count": 23,
   "metadata": {},
   "outputs": [
    {
     "name": "stdout",
     "output_type": "stream",
     "text": [
      "writing to 20170528204207_6e9df8e618b97520233bbb35e7d4eaaf_IMAG01_1.jpg (245072 bytes)\n",
      "writing to 20170528204207_6e9df8e618b97520233bbb35e7d4eaaf_IMAG01_2.jpg (277346 bytes)\n",
      "writing to 20170528204207_6e9df8e618b97520233bbb35e7d4eaaf_IMAG01_3.jpg (249786 bytes)\n"
     ]
    }
   ],
   "source": [
    "##헤더 \n",
    "image_urs = ['http://imgcomic.naver.net/webtoon/119874/1015/20170528204207_6e9df8e618b97520233bbb35e7d4eaaf_IMAG01_1.jpg',\n",
    "    'http://imgcomic.naver.net/webtoon/119874/1015/20170528204207_6e9df8e618b97520233bbb35e7d4eaaf_IMAG01_2.jpg',\n",
    "    'http://imgcomic.naver.net/webtoon/119874/1015/20170528204207_6e9df8e618b97520233bbb35e7d4eaaf_IMAG01_3.jpg',]\n",
    "for image_ur in image_urs:\n",
    "    headers = {\n",
    "         'Referer': 'http://comic.naver.com/webtoon/detail.nhn?titleId=119874&no=1015&weekday=tue'\n",
    "    }\n",
    "    response = requests.get(image_ur, headers = headers)\n",
    "    image_data = response.content\n",
    "    filename = os.path.basename(image_ur)\n",
    "    with open(filename, 'wb') as f :\n",
    "        print('writing to {} ({} bytes)'.format(filename, len(image_data)))\n",
    "        f.write(image_data)\n",
    "        \n"
   ]
  },
  {
   "cell_type": "code",
   "execution_count": 25,
   "metadata": {},
   "outputs": [
    {
     "name": "stdout",
     "output_type": "stream",
     "text": [
      "writing to 20171011141106_a8cadbd579661987b9df41bd9690dca4_IMAG01_1.jpg (45408 bytes)\n"
     ]
    }
   ],
   "source": [
    "## 기기 괴괴\n",
    "image_urls_2 = ['http://imgcomic.naver.net/webtoon/557672/206/20171011141106_a8cadbd579661987b9df41bd9690dca4_IMAG01_1.jpg']\n",
    "for image_ur in image_urls_2:\n",
    "    headers = {\n",
    "         'Referer': 'http://comic.naver.com/webtoon/detail.nhn?titleId=119874&no=1015&weekday=tue'\n",
    "    }\n",
    "    response = requests.get(image_ur, headers = headers)\n",
    "    image_data = response.content\n",
    "    filename = os.path.basename(image_ur)\n",
    "    with open(filename, 'wb') as f :\n",
    "        print('writing to {} ({} bytes)'.format(filename, len(image_data)))\n",
    "        f.write(image_data)"
   ]
  },
  {
   "cell_type": "code",
   "execution_count": 29,
   "metadata": {},
   "outputs": [
    {
     "name": "stdout",
     "output_type": "stream",
     "text": [
      "writing to 0000385452_001_20171013155745209.jpg (68456 bytes)\n"
     ]
    }
   ],
   "source": [
    "image_urls_3 = [\"http://imgnews.naver.net/image/366/2017/10/13/0000385452_001_20171013155745209.jpg\"]\n",
    "for image_ur in image_urls_3:\n",
    "    \n",
    "    response = requests.get(image_ur)\n",
    "    image_data = response.content\n",
    "    filename = os.path.basename(image_ur)\n",
    "    with open(filename, 'wb') as f :\n",
    "        print('writing to {} ({} bytes)'.format(filename, len(image_data)))\n",
    "        f.write(image_data)"
   ]
  },
  {
   "cell_type": "code",
   "execution_count": null,
   "metadata": {
    "collapsed": true
   },
   "outputs": [],
   "source": []
  }
 ],
 "metadata": {
  "kernelspec": {
   "display_name": "Python 3",
   "language": "python",
   "name": "python3"
  },
  "language_info": {
   "codemirror_mode": {
    "name": "ipython",
    "version": 3
   },
   "file_extension": ".py",
   "mimetype": "text/x-python",
   "name": "python",
   "nbconvert_exporter": "python",
   "pygments_lexer": "ipython3",
   "version": "3.6.1"
  }
 },
 "nbformat": 4,
 "nbformat_minor": 2
}
