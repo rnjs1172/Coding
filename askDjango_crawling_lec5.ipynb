{
 "cells": [
  {
   "cell_type": "code",
   "execution_count": null,
   "metadata": {
    "collapsed": true
   },
   "outputs": [],
   "source": [
    "import os\n",
    "from PIL import Image\n",
    "import requests\n",
    "image_url = ('https://ee5817f8e2e9a2e34042-3365e7f0719651e5b'\n",
    "             '8d0979bce83c558.ssl.cf5.rackcdn.com/python.png')\n",
    "image = requests.get(image_url).content\n",
    "filename = os.path.basename(image_url)\n",
    "with open(filename, 'wb') as f:\n",
    "    f.write(image)"
   ]
  },
  {
   "cell_type": "code",
   "execution_count": null,
   "metadata": {
    "collapsed": true
   },
   "outputs": [],
   "source": [
    "\n",
    "from IPython.display import Image\n",
    "Image(filename='python.png')"
   ]
  },
  {
   "cell_type": "code",
   "execution_count": null,
   "metadata": {
    "collapsed": true
   },
   "outputs": [],
   "source": [
    "from PIL import Image as PILImage   # Pillow"
   ]
  },
  {
   "cell_type": "code",
   "execution_count": null,
   "metadata": {
    "collapsed": true
   },
   "outputs": [],
   "source": [
    "with PILImage.open('python.png') as im:\n",
    "    # im.save('python_quality_40.jpg', quality=40)\n",
    "    \n",
    "    with PILImage.new('RGBA', im.size, (255, 255, 255)) as canvas:\n",
    "        merged_im = PILImage.alpha_composite(canvas, im)\n",
    "        merged_im.save('python_bg_white.jpg', quality=80)"
   ]
  },
  {
   "cell_type": "code",
   "execution_count": null,
   "metadata": {
    "collapsed": true
   },
   "outputs": [],
   "source": [
    "from IPython.display import Image\n",
    "Image(filename='python_bg_white.jpg')"
   ]
  },
  {
   "cell_type": "code",
   "execution_count": null,
   "metadata": {
    "collapsed": true
   },
   "outputs": [],
   "source": [
    "with PILImageage.open(\"python.png\") as im:\n",
    "    im.thumbnail((300, 300))\n",
    "    im.save(\"python_300_300.png\")\n"
   ]
  },
  {
   "cell_type": "code",
   "execution_count": null,
   "metadata": {
    "collapsed": true
   },
   "outputs": [],
   "source": [
    "Image(filename=\"python_300_300.png\")"
   ]
  },
  {
   "cell_type": "code",
   "execution_count": null,
   "metadata": {
    "collapsed": true
   },
   "outputs": [],
   "source": [
    "img1_url = \"http://imgcomic.naver.net/webtoon/20853/1093/20170529163407_0ed8a697d896451fee4bc3642fb46db8_IMAG01_3.jpg\"\n",
    "img2_url = \"http://imgcomic.naver.net/webtoon/20853/1093/20170529163407_0ed8a697d896451fee4bc3642fb46db8_IMAG01_4.jpg\""
   ]
  },
  {
   "cell_type": "code",
   "execution_count": null,
   "metadata": {
    "collapsed": true
   },
   "outputs": [],
   "source": [
    "\n",
    "import requests\n",
    "headers = {\n",
    "    'Referer': 'http://comic.naver.com/webtoon/detail.nhn?titleId=20853&no=1093&weekday=tue',\n",
    "}\n",
    "img1_data = requests.get(img1_url, headers=headers).content\n",
    "img2_data = requests.get(img2_url, headers=headers).content"
   ]
  },
  {
   "cell_type": "code",
   "execution_count": null,
   "metadata": {
    "collapsed": true
   },
   "outputs": [],
   "source": [
    "with open('img1.jpg', 'wb') as f:\n",
    "    f.write(img1_data)\n",
    "    \n",
    "with open('img2.jpg', 'wb') as f:\n",
    "    f.write(img2_data)"
   ]
  },
  {
   "cell_type": "code",
   "execution_count": null,
   "metadata": {
    "collapsed": true
   },
   "outputs": [],
   "source": [
    "Image(filename='img1.jpg')"
   ]
  },
  {
   "cell_type": "code",
   "execution_count": null,
   "metadata": {
    "collapsed": true
   },
   "outputs": [],
   "source": [
    "Image(filename='img2.jpg')"
   ]
  },
  {
   "cell_type": "code",
   "execution_count": null,
   "metadata": {
    "collapsed": true
   },
   "outputs": [],
   "source": [
    "with PILImage.open(\"img1.jpg\") as im1:\n",
    "    with PILImage.open(\"img2.jpg\") as im2:\n",
    "        width = max(im1.width, im2.width)\n",
    "        height = sum((im1.height, im2.height))\n",
    "        with PILImage.new('RGB', (width, height), (255, 255, 255)) as canvas:\n",
    "            canvas.paste(im1, box=(0, 0))\n",
    "            canvas.paste(im2, box=(0, im1.height))\n",
    "            canvas.save('img_merged.jpg')"
   ]
  },
  {
   "cell_type": "code",
   "execution_count": null,
   "metadata": {
    "collapsed": true
   },
   "outputs": [],
   "source": [
    "Image(filename='img_merged.jpg')"
   ]
  }
 ],
 "metadata": {
  "kernelspec": {
   "display_name": "Python 3",
   "language": "python",
   "name": "python3"
  },
  "language_info": {
   "codemirror_mode": {
    "name": "ipython",
    "version": 3
   },
   "file_extension": ".py",
   "mimetype": "text/x-python",
   "name": "python",
   "nbconvert_exporter": "python",
   "pygments_lexer": "ipython3",
   "version": "3.6.1"
  }
 },
 "nbformat": 4,
 "nbformat_minor": 2
}
