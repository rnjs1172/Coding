{
 "cells": [
  {
   "cell_type": "markdown",
   "metadata": {},
   "source": [
    "## askDjango 도장깨기"
   ]
  },
  {
   "cell_type": "markdown",
   "metadata": {},
   "source": [
    "### level_1"
   ]
  },
  {
   "cell_type": "code",
   "execution_count": 1,
   "metadata": {
    "collapsed": true
   },
   "outputs": [],
   "source": [
    "## 원하는 정보가 페이지소스에 있으면 = HTML 이다\n"
   ]
  },
  {
   "cell_type": "code",
   "execution_count": 8,
   "metadata": {
    "collapsed": true
   },
   "outputs": [],
   "source": [
    "import requests\n",
    "from bs4 import BeautifulSoup\n",
    "import pandas as pd"
   ]
  },
  {
   "cell_type": "code",
   "execution_count": 33,
   "metadata": {
    "collapsed": true
   },
   "outputs": [],
   "source": [
    "lv1_url = \"https://askdjango.github.io/lv1/\"\n",
    "html = requests.get(lv1_url).text\n",
    "soup = BeautifulSoup(html,'html.parser')\n",
    "text_1 = []\n",
    "href_1 = []\n",
    "for tag in soup.select(\"#course_list .course a\"):\n",
    "    text_1.append(tag.text)\n",
    "    href_1.append(tag[\"href\"])"
   ]
  },
  {
   "cell_type": "code",
   "execution_count": 19,
   "metadata": {
    "collapsed": true
   },
   "outputs": [],
   "source": [
    "data = []\n",
    "for i in range(1,17):\n",
    "    data.append([])"
   ]
  },
  {
   "cell_type": "code",
   "execution_count": 42,
   "metadata": {
    "scrolled": true
   },
   "outputs": [
    {
     "data": {
      "text/plain": [
       "['https://nomade.kr/vod/setup/',\n",
       " 'https://nomade.kr/vod/python/',\n",
       " 'https://nomade.kr/vod/crawling/',\n",
       " 'https://nomade.kr/vod/automation/',\n",
       " 'https://nomade.kr/vod/django/',\n",
       " 'https://nomade.kr/vod/djangogirls/',\n",
       " 'https://nomade.kr/vod/form/',\n",
       " 'https://nomade.kr/vod/cbv/',\n",
       " 'https://nomade.kr/vod/payment/',\n",
       " 'https://nomade.kr/vod/frontend/',\n",
       " 'https://nomade.kr/vod/widgets/',\n",
       " 'https://nomade.kr/vod/apiserver/',\n",
       " 'https://nomade.kr/vod/hybrid/',\n",
       " 'https://nomade.kr/vod/deploy/',\n",
       " 'https://nomade.kr/vod/django-baemin/',\n",
       " 'https://nomade.kr/vod/django-instagram/']"
      ]
     },
     "execution_count": 42,
     "metadata": {},
     "output_type": "execute_result"
    }
   ],
   "source": [
    "href_1"
   ]
  },
  {
   "cell_type": "code",
   "execution_count": 22,
   "metadata": {
    "collapsed": true
   },
   "outputs": [],
   "source": [
    "for i in range(1,17):\n",
    "    data[i-1].append(text_1[i-1])\n",
    "    data[i-1].append(href_1[i-1])"
   ]
  },
  {
   "cell_type": "code",
   "execution_count": 24,
   "metadata": {
    "collapsed": true
   },
   "outputs": [],
   "source": [
    "dataframe = pd.DataFrame(data)"
   ]
  },
  {
   "cell_type": "code",
   "execution_count": 41,
   "metadata": {
    "collapsed": true
   },
   "outputs": [],
   "source": [
    "dataframe.to_csv(\"C:\\\\Users\\\\Kwon\\\\Desktop\\\\new\\\\askDjango.csv\")"
   ]
  },
  {
   "cell_type": "code",
   "execution_count": null,
   "metadata": {
    "collapsed": true
   },
   "outputs": [],
   "source": [
    "for i in href_1\n",
    "    url_2 = i\n",
    "    html = requef"
   ]
  }
 ],
 "metadata": {
  "kernelspec": {
   "display_name": "Python 3",
   "language": "python",
   "name": "python3"
  },
  "language_info": {
   "codemirror_mode": {
    "name": "ipython",
    "version": 3
   },
   "file_extension": ".py",
   "mimetype": "text/x-python",
   "name": "python",
   "nbconvert_exporter": "python",
   "pygments_lexer": "ipython3",
   "version": "3.6.1"
  }
 },
 "nbformat": 4,
 "nbformat_minor": 2
}
