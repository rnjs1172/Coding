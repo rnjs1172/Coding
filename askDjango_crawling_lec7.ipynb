{
 "cells": [
  {
   "cell_type": "markdown",
   "metadata": {},
   "source": [
    "## 1) 네이버 실시간 검색"
   ]
  },
  {
   "cell_type": "code",
   "execution_count": 12,
   "metadata": {
    "collapsed": true
   },
   "outputs": [],
   "source": [
    "import requests\n",
    "from bs4 import BeautifulSoup"
   ]
  },
  {
   "cell_type": "code",
   "execution_count": 13,
   "metadata": {},
   "outputs": [
    {
     "data": {
      "text/plain": [
       "200"
      ]
     },
     "execution_count": 13,
     "metadata": {},
     "output_type": "execute_result"
    }
   ],
   "source": [
    "url_1 = \"https://www.naver.com/\"\n",
    "status_1 = requests.get(url_1)\n",
    "status_1.status_code"
   ]
  },
  {
   "cell_type": "markdown",
   "metadata": {},
   "source": [
    "#### tag 불러올때 변수의 이름이 띄어쓰기가 있으면 않된다. 예를들어 \n",
    "     <div class=\"ah_roll PM_CL_realtimeKeyword_rolling_base\" aria-hidden=\"false\">\n",
    "     ah_roll 과 pm 부분에 띄어쓰기가 있다. 이것을 그냥 selcet를 이용하여 사용한다면, python은 독립된 변수명이라고 생각할 것이다."
   ]
  },
  {
   "cell_type": "code",
   "execution_count": 24,
   "metadata": {},
   "outputs": [
    {
     "name": "stdout",
     "output_type": "stream",
     "text": [
      "1\n",
      "2\n",
      "3\n",
      "4\n",
      "5\n",
      "6\n",
      "7\n",
      "8\n",
      "9\n",
      "10\n",
      "11\n",
      "12\n",
      "13\n",
      "14\n",
      "15\n",
      "16\n",
      "17\n",
      "18\n",
      "19\n",
      "20\n",
      "공유\n",
      "신라젠\n",
      "공효진\n",
      "정유미\n",
      "샤이니\n",
      "조영남\n",
      "김세연\n",
      "유웨이어플라이\n",
      "삼성전자\n",
      "진학어플라이\n",
      "남경필\n",
      "코스닥\n",
      "렉스턴 스포츠\n",
      "한서희\n",
      "국세청홈택스\n",
      "투깝스\n",
      "코스피\n",
      "환율조회\n",
      "꽃피어라 달순아\n",
      "이세로\n"
     ]
    }
   ],
   "source": [
    "html_1 = requests.get(url_1).text\n",
    "soup_1 = BeautifulSoup(html_1,\"html.parser\")\n",
    "for tag in soup_1.select(\".PM_CL_realtimeKeyword_rolling .ah_l .ah_item .ah_r,.ah_k\"):\n",
    "    print(tag.text)\n",
    "## 독립적으로 순위와 검색어가 나온다. 그냥 검색어만 긁어오자!"
   ]
  },
  {
   "cell_type": "code",
   "execution_count": 33,
   "metadata": {},
   "outputs": [
    {
     "name": "stdout",
     "output_type": "stream",
     "text": [
      "공유\n",
      "신라젠\n",
      "공효진\n",
      "정유미\n",
      "샤이니\n",
      "조영남\n",
      "김세연\n",
      "유웨이어플라이\n",
      "삼성전자\n",
      "진학어플라이\n",
      "남경필\n",
      "코스닥\n",
      "렉스턴 스포츠\n",
      "한서희\n",
      "국세청홈택스\n",
      "투깝스\n",
      "코스피\n",
      "환율조회\n",
      "꽃피어라 달순아\n",
      "이세로\n"
     ]
    }
   ],
   "source": [
    "## 순서를 바꿔서 한번해보고\n",
    "for tag in soup_1.select(\".PM_CL_realtimeKeyword_rolling .ah_l .ah_item .ah_k,ah_r \"):\n",
    "    print(tag.text)"
   ]
  },
  {
   "cell_type": "code",
   "execution_count": 34,
   "metadata": {},
   "outputs": [
    {
     "name": "stdout",
     "output_type": "stream",
     "text": [
      "공유\n",
      "신라젠\n",
      "공효진\n",
      "정유미\n",
      "샤이니\n",
      "조영남\n",
      "김세연\n",
      "유웨이어플라이\n",
      "삼성전자\n",
      "진학어플라이\n",
      "남경필\n",
      "코스닥\n",
      "렉스턴 스포츠\n",
      "한서희\n",
      "국세청홈택스\n",
      "투깝스\n",
      "코스피\n",
      "환율조회\n",
      "꽃피어라 달순아\n",
      "이세로\n"
     ]
    }
   ],
   "source": [
    "for tag in soup_1.select(\".PM_CL_realtimeKeyword_rolling .ah_l .ah_item .ah_k \"):\n",
    "    print(tag.text)"
   ]
  },
  {
   "cell_type": "code",
   "execution_count": 38,
   "metadata": {},
   "outputs": [
    {
     "name": "stdout",
     "output_type": "stream",
     "text": [
      "1 공유\n",
      "2 신라젠\n",
      "3 공효진\n",
      "4 정유미\n",
      "5 샤이니\n",
      "6 조영남\n",
      "7 김세연\n",
      "8 유웨이어플라이\n",
      "9 삼성전자\n",
      "10 진학어플라이\n",
      "11 남경필\n",
      "12 코스닥\n",
      "13 렉스턴 스포츠\n",
      "14 한서희\n",
      "15 국세청홈택스\n",
      "16 투깝스\n",
      "17 코스피\n",
      "18 환율조회\n",
      "19 꽃피어라 달순아\n",
      "20 이세로\n"
     ]
    }
   ],
   "source": [
    "## 이제는 순위를 붙여서 써보자!\n",
    "tag_list_1 = soup_1.select(\".PM_CL_realtimeKeyword_rolling .ah_l .ah_item .ah_k \")\n",
    "for num,tag in enumerate(tag_list_1):\n",
    "    print(num+1, tag.text)"
   ]
  },
  {
   "cell_type": "code",
   "execution_count": 40,
   "metadata": {},
   "outputs": [
    {
     "name": "stdout",
     "output_type": "stream",
     "text": [
      "1 공유\n",
      "2 신라젠\n",
      "3 공효진\n",
      "4 정유미\n",
      "5 샤이니\n",
      "6 조영남\n",
      "7 김세연\n",
      "8 유웨이어플라이\n",
      "9 삼성전자\n",
      "10 진학어플라이\n",
      "11 남경필\n",
      "12 코스닥\n",
      "13 렉스턴 스포츠\n",
      "14 한서희\n",
      "15 국세청홈택스\n",
      "16 투깝스\n",
      "17 코스피\n",
      "18 환율조회\n",
      "19 꽃피어라 달순아\n",
      "20 이세로\n"
     ]
    }
   ],
   "source": [
    "### 0 순위 부터 아닌 1부터 나오게 하는 다른 방법\n",
    "for num,tag in enumerate(tag_list_1,1):#### 시작숫자를 설정하는 인자를 넣어준다.\n",
    "    print(num, tag.text)"
   ]
  },
  {
   "cell_type": "markdown",
   "metadata": {},
   "source": [
    "### 네이버 실시간 검색어 정리"
   ]
  },
  {
   "cell_type": "code",
   "execution_count": 45,
   "metadata": {},
   "outputs": [
    {
     "name": "stdout",
     "output_type": "stream",
     "text": [
      "1 공유\n",
      "2 신라젠\n",
      "3 샤이니\n",
      "4 조영남\n",
      "5 정유미\n",
      "6 김세연\n",
      "7 셀럽티비\n",
      "8 강경화\n",
      "9 유웨이어플라이\n",
      "10 공효진\n",
      "11 삼성전자\n",
      "12 코스닥\n",
      "13 세븐틴\n",
      "14 진학어플라이\n",
      "15 윤여정\n",
      "16 렉스턴 스포츠\n",
      "17 남북회담\n",
      "18 남경필\n",
      "19 박서준\n",
      "20 한서희\n"
     ]
    }
   ],
   "source": [
    "import requests\n",
    "from bs4 import BeautifulSoup\n",
    "\n",
    "url_2 = \"https://www.naver.com/\"\n",
    "html_2 = requests.get(url_2).text\n",
    "soup_2 = BeautifulSoup(html_2,\"html.parser\")\n",
    "\n",
    "tag_list_2 = soup_2.select(\".PM_CL_realtimeKeyword_rolling .ah_l .ah_item .ah_k\") \n",
    "\n",
    "for num,tag in enumerate(tag_list_2,1):\n",
    "    print(num,tag.text)"
   ]
  },
  {
   "cell_type": "markdown",
   "metadata": {},
   "source": [
    "#### +) for 문에 인자가 2개이상일때, 인자를 적을때 원하는 결과의 순서대로 써주는 것이 좋다.\n",
    "    예를 들어 num,tag.text 순으로 뽑고 싶으면 \n",
    "    for num,tag 이렇게 해야지\n",
    "    for tag,num으로 하면 오류가 생긴다."
   ]
  },
  {
   "cell_type": "markdown",
   "metadata": {},
   "source": [
    "## 2) 네이버 블로그 검색"
   ]
  },
  {
   "cell_type": "code",
   "execution_count": 46,
   "metadata": {
    "collapsed": true
   },
   "outputs": [],
   "source": [
    "import requests\n",
    "from bs4 import BeautifulSoup"
   ]
  },
  {
   "cell_type": "markdown",
   "metadata": {},
   "source": [
    "##### 원하는 블로그 url를 일단 긁어오자!"
   ]
  },
  {
   "cell_type": "code",
   "execution_count": null,
   "metadata": {
    "collapsed": true
   },
   "outputs": [],
   "source": [
    "## 원하는 블로그 검색어 : askDjango\n",
    "url_3 = \"https://search.naver.com/search.naver?date_from=&date_option=0&date_to=&dup_remove=1&nso=&post_blogurl=&post_blogurl_without=&query=askDjango&sm=tab_pge&srchby=all&st=sim&where=post&start=1\""
   ]
  },
  {
   "cell_type": "markdown",
   "metadata": {},
   "source": [
    "##### 위의 url에서 필요한 인자만 포함시키자.\n",
    "    + url 에서 ? 앞에 내용이 실제 요청한 url \n",
    "    + url 에서 ? 뒤에 내용은 get 인자 이다.\n",
    "    ++ &를 기준으로 나누자!\n",
    "    = 즉 ? 뒤의 get 인자 중에 핵심, 필요한 것만 뽑아서 재조합!"
   ]
  },
  {
   "cell_type": "markdown",
   "metadata": {},
   "source": [
    "?date_from=\n",
    "date_option=0\n",
    "date_to=\n",
    "dup_remove=1\n",
    "nso=\n",
    "post_blogurl=\n",
    "post_blogurl_without=\n",
    "query=askDjango\n",
    "sm=tab_pge\n",
    "srchby=all\n",
    "st=sim\n",
    "where=post\n",
    "start=1\n",
    "\n",
    "여기서 일단 값들이 없는 인자들은 삭제를 해준다\n",
    "\n",
    "date_option=0\n",
    "dup_remove=1\n",
    "query=askDjango\n",
    "sm=tab_pge\n",
    "srchby=all\n",
    "st=sim\n",
    "where=post\n",
    "start=1\n",
    "\n",
    "다음으로 의미 있다고 생각하는 것을 뽑아낸다.\n",
    "\n",
    "query=askDjango\n",
    "where=post\n",
    "start=1\n"
   ]
  },
  {
   "cell_type": "markdown",
   "metadata": {},
   "source": [
    "##### 위의 인자들로만 재조합"
   ]
  },
  {
   "cell_type": "code",
   "execution_count": 47,
   "metadata": {
    "collapsed": true
   },
   "outputs": [],
   "source": [
    "url_3_2 = \"https://search.naver.com/search.naver?query=askDjango&where=post&start=1\"\n",
    "# 인터넷 창에 동일한 결과가 나오는지 url을 써보고 결과를 본다."
   ]
  },
  {
   "cell_type": "markdown",
   "metadata": {},
   "source": [
    "### 매번 필요한 url을 해주지 말고 함수를 지정해보자\n"
   ]
  },
  {
   "cell_type": "code",
   "execution_count": 52,
   "metadata": {
    "collapsed": true
   },
   "outputs": [],
   "source": [
    "### 일단 검색어를 받는 함수\n",
    "def naver_blog_search_1(q):\n",
    "    url = \"https://search.naver.com/search.naver?query=\"+ q +\"&where=post&start=1\"\n",
    "    print(url)"
   ]
  },
  {
   "cell_type": "code",
   "execution_count": 53,
   "metadata": {},
   "outputs": [
    {
     "name": "stdout",
     "output_type": "stream",
     "text": [
      "https://search.naver.com/search.naver?query=askDjango&where=post&start=1\n"
     ]
    }
   ],
   "source": [
    "naver_blog_search_1(\"askDjango\")"
   ]
  },
  {
   "cell_type": "markdown",
   "metadata": {},
   "source": [
    "##### def 에서 뒤의 내용을 params(사전) 로 깔끔하게 정리해 보자\n",
    "    내용은 dic 형태로 설정해 준다. \n",
    "        ex) \"query\" : q\n",
    "        "
   ]
  },
  {
   "cell_type": "code",
   "execution_count": 70,
   "metadata": {
    "collapsed": true
   },
   "outputs": [],
   "source": [
    "def naver_blog_search_2(q,n):\n",
    "    url = \"https://search.naver.com/search.naver\"\n",
    "    params = {\n",
    "        \"query\" : q,\n",
    "        \"where\" : \"post\",\n",
    "        \"start\" : n,\n",
    "    }\n",
    "    html = requests.get(url,params = params).text\n",
    "    soup = BeautifulSoup(html,\"html.parser\")\n",
    "    for tag in soup.select(\".sh_blog_title\"):\n",
    "        print(\"title :\",tag.text,\"href :\",tag[\"href\"])"
   ]
  },
  {
   "cell_type": "code",
   "execution_count": 98,
   "metadata": {
    "collapsed": true
   },
   "outputs": [],
   "source": [
    "naver_blog_search_2(\"askDjango\",1)\n",
    "### 결과가 나오지 않는다 이유가 뭐지?"
   ]
  },
  {
   "cell_type": "markdown",
   "metadata": {},
   "source": [
    "##### reqonse 가 어떻게 나온지 확인해 보자!"
   ]
  },
  {
   "cell_type": "code",
   "execution_count": 99,
   "metadata": {},
   "outputs": [
    {
     "data": {
      "text/plain": [
       "403"
      ]
     },
     "execution_count": 99,
     "metadata": {},
     "output_type": "execute_result"
    }
   ],
   "source": [
    "url_11 = \"https://search.naver.com/search.naver?query=askDjango&where=post&start=1\"\n",
    "html_11 = requests.get(url_11).text\n",
    "status_11 = requests.get(url_11)\n",
    "status_11.status_code\n",
    "## 역시 요청 값이 문제다."
   ]
  },
  {
   "cell_type": "markdown",
   "metadata": {},
   "source": [
    "##### request시에 헤더의 변경이 필요하다.!"
   ]
  },
  {
   "cell_type": "code",
   "execution_count": 100,
   "metadata": {
    "collapsed": true
   },
   "outputs": [],
   "source": [
    "### 우선 referer(어떤 페이지를 거쳐서 왔는가?, 이전페이지 url)설정을 변경해보자\n",
    "def naver_blog_search_3(q,n):\n",
    "    url = \"https://search.naver.com/search.naver\"\n",
    "    params = {\n",
    "        \"query\" : q,\n",
    "        \"where\" : \"post\",\n",
    "        \"start\" : n,\n",
    "    }\n",
    "    requests_headers = {\n",
    "        \"Referer\" : \"https://www.naver.com/\"\n",
    "    }\n",
    "    html = requests.get(url,params = params,headers = requests_headers ).text\n",
    "    soup = BeautifulSoup(html,\"html.parser\")\n",
    "    for tag in soup.select(\".sh_blog_title\"):\n",
    "        print(\"title :\",tag.text,\"href :\",tag[\"href\"])"
   ]
  },
  {
   "cell_type": "code",
   "execution_count": 102,
   "metadata": {},
   "outputs": [
    {
     "name": "stdout",
     "output_type": "stream",
     "text": [
      "title : [온오프믹스][AskDjango 특강] 장고 간단 튜토리얼 및 Azure... href : http://secure-edu.tistory.com/1846\n",
      "title : Askdjango) 파이썬 기본문법 정리 18) 파이썬 클래스... href : http://myjorney.tistory.com/26\n",
      "title : 2017.02 네이버 맞춤법 검사기 (출처: askdjango) href : http://the7mincheol.blog.me/220940162131\n",
      "title : askdjango - 개발 환경 강의 정리 href : http://blog.naver.com/scarletbreez?Redirect=Log&logNo=221178294385\n",
      "title : Askdjango) 파이썬 기본문법 정리3)python 파이썬 들여쓰기... href : http://myjorney.tistory.com/4\n",
      "title : Askdjango) 파이썬 기본문법 정리1_파이썬의 코드 실행방법... href : http://myjorney.tistory.com/1\n",
      "title : 2017.03 멜론 노래 검색기 (출처: askdjango) href : http://the7mincheol.blog.me/220947602901\n",
      "title : Askdjango) 파이썬 기본문법 정리)2.파이썬의 기본... href : http://myjorney.tistory.com/2\n",
      "title : Askdjango) 파이썬 기본문법 정리 16) 파이썬 인코딩... href : http://myjorney.tistory.com/21\n",
      "title : Askdjango) 파이썬 기본문법 정리 12) 파이썬 빌트인함수... href : http://myjorney.tistory.com/15\n"
     ]
    }
   ],
   "source": [
    "naver_blog_search_3(\"AskDjango\",1)\n",
    "### 성공!!!"
   ]
  },
  {
   "cell_type": "markdown",
   "metadata": {},
   "source": [
    "##### 시작 페이지 설정 가능하지만 1페이지 밖에 못한다. 추가로 함수 만들어보자\n",
    "    일정 시작 페이지가 존재하는 페이지수 보다 넘어가면 그냥 마지막 페이지만을 응답\n",
    "    즉 존재하는 페이지수보다 넘어가게 되면, \n",
    "    전체 url은 변경되더라도 해당 페이지의 블로그 href는 변경되지 않는다.!"
   ]
  },
  {
   "cell_type": "code",
   "execution_count": 5,
   "metadata": {
    "collapsed": true
   },
   "outputs": [],
   "source": [
    "import requests\n",
    "from bs4 import BeautifulSoup\n",
    "\n",
    "###### 일단 순서가 있는 사전 라이브러리를 불러와\n",
    "from collections import OrderedDict\n",
    "\n",
    "def naver_blog_search_4(q):\n",
    "    url = \"https://search.naver.com/search.naver\"\n",
    "    \n",
    "    post_dict = OrderedDict()\n",
    "    #### 페이지 수를\n",
    "    for page in range(1,100):\n",
    "        params = {\n",
    "            \"query\" : q,\n",
    "            \"where\" : \"post\",\n",
    "            \"start\" : (page-1)*10 + 1 \n",
    "        }\n",
    "        requests_headers = {\n",
    "        \"Referer\" : \"https://www.naver.com/\"\n",
    "        }\n",
    "        html = requests.get(url,params = params,headers = requests_headers ).text\n",
    "        soup = BeautifulSoup(html,\"html.parser\")\n",
    "        \n",
    "        ###### , 각 단계의 href의 값을  순서있는 사전에 넣는다.!\n",
    "        for tag in soup.select(\".sh_blog_title\"):\n",
    "            if tag[\"href\"] in post_dict:\n",
    "                return post_dict\n",
    "            #### 만약에 해당 블로그가 이미 post_dict에 존재하면 그값을 리턴해라.\n",
    "            else:\n",
    "                post_dict[tag[\"href\"]] = tag.text\n",
    "    return post_dict\n"
   ]
  },
  {
   "cell_type": "code",
   "execution_count": 3,
   "metadata": {},
   "outputs": [
    {
     "data": {
      "text/plain": [
       "OrderedDict([('http://secure-edu.tistory.com/1846',\n",
       "              '[온오프믹스][AskDjango 특강] 장고 간단 튜토리얼 및 Azure...'),\n",
       "             ('http://myjorney.tistory.com/26',\n",
       "              'Askdjango) 파이썬 기본문법 정리 18) 파이썬 클래스...'),\n",
       "             ('http://the7mincheol.blog.me/220940162131',\n",
       "              '2017.02 네이버 맞춤법 검사기 (출처: askdjango)'),\n",
       "             ('http://blog.naver.com/scarletbreez?Redirect=Log&logNo=221178294385',\n",
       "              'askdjango - 개발 환경 강의 정리'),\n",
       "             ('http://myjorney.tistory.com/4',\n",
       "              'Askdjango) 파이썬 기본문법 정리3)python 파이썬 들여쓰기...'),\n",
       "             ('http://myjorney.tistory.com/1',\n",
       "              'Askdjango) 파이썬 기본문법 정리1_파이썬의 코드 실행방법...'),\n",
       "             ('http://the7mincheol.blog.me/220947602901',\n",
       "              '2017.03 멜론 노래 검색기 (출처: askdjango)'),\n",
       "             ('http://myjorney.tistory.com/2',\n",
       "              'Askdjango) 파이썬 기본문법 정리)2.파이썬의 기본...'),\n",
       "             ('http://myjorney.tistory.com/21',\n",
       "              'Askdjango) 파이썬 기본문법 정리 16) 파이썬 인코딩...'),\n",
       "             ('http://myjorney.tistory.com/15',\n",
       "              'Askdjango) 파이썬 기본문법 정리 12) 파이썬 빌트인함수...'),\n",
       "             ('http://blog.naver.com/lys1900?Redirect=Log&logNo=221007039328',\n",
       "              '[ Android ] FCM 푸시 관련'),\n",
       "             ('http://secure-edu.tistory.com/1857',\n",
       "              '[온오프믹스]2017 제3회 오픈소스 성공사례 세미나 [종료]'),\n",
       "             ('http://myjorney.tistory.com/28',\n",
       "              'Askdjango) 파이썬 기본문법 정리 19) 파이썬 호출...'),\n",
       "             ('http://harryp.tistory.com/517',\n",
       "              '[컨퍼런스 정보] Saturday Azure Live, 1703 (17.03.11)'),\n",
       "             ('http://blog.naver.com/cyberpass?Redirect=Log&logNo=220962782139',\n",
       "              'Global Azure Bootcamp x Korea 2017'),\n",
       "             ('http://blog.naver.com/thnam91?Redirect=Log&logNo=221044591975',\n",
       "              '크롤링 실습 - 네이버 블로그'),\n",
       "             ('http://blog.naver.com/answn3475?Redirect=Log&logNo=221125073519',\n",
       "              '[Python] Selenium 카페 글쓰기 자동화'),\n",
       "             ('http://blog.naver.com/jjusik2?Redirect=Log&logNo=221154408195',\n",
       "              'Google Firebase를 통한 로그인 처리 관련'),\n",
       "             ('http://blog.naver.com/erp2001?Redirect=Log&logNo=221132495962',\n",
       "              '개발자에게 도움이되는 사이트나 글'),\n",
       "             ('http://darksilber.tistory.com/entry/Firebase-Cloud-MessagingFCM',\n",
       "              'Firebase Cloud Messaging(FCM)'),\n",
       "             ('http://blog.naver.com/sdzaq?Redirect=Log&logNo=220874342874',\n",
       "              'Django Project Azure WebApp 배포 + Git 연동'),\n",
       "             ('http://secure-edu.tistory.com/1844', '[온오프믹스]제2회 게임문화포럼 [종료]'),\n",
       "             ('http://rednooby.tistory.com/104',\n",
       "              '[Python] 크롤링 예제. Lv3 자바스크립트 렌더링 크롤링 풀이'),\n",
       "             ('http://blog.naver.com/timothym?Redirect=Log&logNo=221029045962',\n",
       "              '크롤링'),\n",
       "             ('http://myjorney.tistory.com/30',\n",
       "              '<world nomade의 django 여행> Django admin url 변경을 통안...'),\n",
       "             ('http://blog.naver.com/thnam91?Redirect=Log&logNo=221043942283',\n",
       "              'Web Crawling'),\n",
       "             ('http://month6000.tistory.com/20', 'Django 기본에 대한 괜찮은 강좌'),\n",
       "             ('http://the7mincheol.blog.me/220965280771', '20170323 오늘의 자기계발'),\n",
       "             ('http://blog.naver.com/bhk1304?Redirect=Log&logNo=221071294533',\n",
       "              '파이썬(Python) 학습의 주요분야 및 학습리소스'),\n",
       "             ('http://blog.naver.com/davidkim9204?Redirect=Log&logNo=220926355947',\n",
       "              '2017-02-03 (12일차)'),\n",
       "             ('http://blog.naver.com/scarletbreez?Redirect=Log&logNo=220940213899',\n",
       "              '2.3 피로그래밍 후의 계획'),\n",
       "             ('http://rednooby.tistory.com/102',\n",
       "              '[Python] 크롤링 예제. Lv1 단순 HTML 크롤링 풀이'),\n",
       "             ('http://myjorney.tistory.com/76', '파이썬의 리스트와 튜플 조금 더 깊게 이해하기.'),\n",
       "             ('http://blog.naver.com/thnam91?Redirect=Log&logNo=221044548892',\n",
       "              '크롤링 실습 - 네이버 실시간 검색어'),\n",
       "             ('http://blog.naver.com/2002shihoo?Redirect=Log&logNo=220863468052',\n",
       "              'Django Girls Seoul! 프로그래밍 워크샵에 참여하다!'),\n",
       "             ('https://dojunblog.wordpress.com/2017/05/24/%EB%82%B4%EA%B0%80-django%EB%A5%BC-%EC%B2%98%EC%9D%8C-%EC%8B%9C%EC%9E%91%ED%96%88%EB%8D%98-%EB%B0%A9%EB%B2%95/',\n",
       "              '내가 Django를 처음 시작했던 방법'),\n",
       "             ('http://the7mincheol.blog.me/220956084165', '20170312 오늘의 자기계발'),\n",
       "             ('http://codemath.tistory.com/34',\n",
       "              '[Django] Jupyter notebook 사용하기 - Django shell'),\n",
       "             ('http://rednooby.tistory.com/103',\n",
       "              '[Python] 크롤링 예제. Lv2 Ajax 렌더링 크롤링 풀이'),\n",
       "             ('http://myjorney.tistory.com/41',\n",
       "              'World Nomade의 크롤링한 내용 + 카카오톡 봇 만들기...'),\n",
       "             ('http://blog.naver.com/thnam91?Redirect=Log&logNo=221046183530',\n",
       "              '크롤링 실습 - 굿모니터링 웹페이지'),\n",
       "             ('http://blog.naver.com/answn3475?Redirect=Log&logNo=221125660580',\n",
       "              '[Python] find & CSS Selector을 이용한 크롤링'),\n",
       "             ('http://dooha.tistory.com/15', 'Django Multiple Database'),\n",
       "             ('http://blog.naver.com/nagano_i?Redirect=Log&logNo=220895024592',\n",
       "              'Python-국회 사이트 국회의원 목록 크롤링'),\n",
       "             ('http://the7mincheol.blog.me/220949806745',\n",
       "              '20170304 오늘의 자기계발__계획을 세우는 이유와 의미'),\n",
       "             ('http://suspected.tistory.com/entry/Django-Pycharm%EC%97%90%EC%84%9C-Django-%EC%8B%A4%EC%8A%B5-%EA%B2%8C%EC%8B%9C%ED%8C%90%EB%8C%93%EA%B8%80%EA%B8%B0%EB%8A%A5',\n",
       "              '[Django] Pycharm에서 Django 실습 - 게시판,댓글...'),\n",
       "             ('http://blog.naver.com/thnam91?Redirect=Log&logNo=221045219083',\n",
       "              '크롤링 실습 - 빅카인즈 검색 결과'),\n",
       "             ('http://blog.naver.com/thnam91?Redirect=Log&logNo=221043315992',\n",
       "              'Django 설치 및 Overview'),\n",
       "             ('http://blog.naver.com/thnam91?Redirect=Log&logNo=221045805076',\n",
       "              '크롤링 실습 - 네이버 맞춤법 검사기'),\n",
       "             ('http://blog.naver.com/thnam91?Redirect=Log&logNo=221046102121',\n",
       "              '크롤링 실습 - 멜론 TOP100 / 시대별 차트'),\n",
       "             ('http://blog.naver.com/thnam91?Redirect=Log&logNo=221042243083',\n",
       "              'Slack bot으로 메세지 자동으로 보내기'),\n",
       "             ('http://blog.naver.com/thnam91?Redirect=Log&logNo=221044954143',\n",
       "              '크롤링 응용 - 네이버 웹툰 다운로더'),\n",
       "             ('http://blog.naver.com/thnam91?Redirect=Log&logNo=221024077044',\n",
       "              '자동으로 SMS 보내기'),\n",
       "             ('http://blog.naver.com/thnam91?Redirect=Log&logNo=221044025458',\n",
       "              'Pillow 라이브러리'),\n",
       "             ('http://blog.naver.com/thnam91?Redirect=Log&logNo=221044229334',\n",
       "              'BeautifulSoup4 라이브러리'),\n",
       "             ('http://blog.naver.com/thnam91?Redirect=Log&logNo=221024784006',\n",
       "              'Requests 라이브러리'),\n",
       "             ('http://blog.naver.com/thnam91?Redirect=Log&logNo=221064875953',\n",
       "              '카카오톡 플러스친구 봇 제작 - GIST 식단표 알림'),\n",
       "             ('http://blog.naver.com/thnam91?Redirect=Log&logNo=221045717832',\n",
       "              '중고나라에 찾는 물건 올라오면 알려주기'),\n",
       "             ('http://the7mincheol.blog.me/220969532801',\n",
       "              'Python ::: 경로에서 파일 이름만 추출하기'),\n",
       "             ('http://happytime3.tistory.com/2143', '펌 IT 인터넷 0318')])"
      ]
     },
     "execution_count": 3,
     "metadata": {},
     "output_type": "execute_result"
    }
   ],
   "source": [
    "naver_blog_search_4(\"AskDjango\")"
   ]
  },
  {
   "cell_type": "code",
   "execution_count": 6,
   "metadata": {
    "collapsed": true
   },
   "outputs": [],
   "source": [
    "### 재대로 앞에서 한것이 나오는 것인지 확인해 보자(Debugging)\n",
    "def naver_blog_search_5(q):\n",
    "    url = \"https://search.naver.com/search.naver\"\n",
    "    \n",
    "    post_dict = OrderedDict()\n",
    "    #### 페이지 수를\n",
    "    for page in range(1,100):\n",
    "        params = {\n",
    "            \"query\" : q,\n",
    "            \"where\" : \"post\",\n",
    "            \"start\" : (page-1)*10 + 1 \n",
    "        }\n",
    "        requests_headers = {\n",
    "        \"Referer\" : \"https://www.naver.com/\"\n",
    "        }\n",
    "        html = requests.get(url,params = params,headers = requests_headers ).text\n",
    "        soup = BeautifulSoup(html,\"html.parser\")\n",
    "        print(params)\n",
    "        ###### , 각 단계의 href의 값을  순서있는 사전에 넣는다.!\n",
    "        for tag in soup.select(\".sh_blog_title\"):\n",
    "            if tag[\"href\"] in post_dict:\n",
    "                return post_dict\n",
    "            #### 만약에 해당 블로그가 이미 post_dict에 존재하면 그값을 리턴해라.\n",
    "            else:\n",
    "                post_dict[tag[\"href\"]] = tag.text\n",
    "    return post_dict\n"
   ]
  },
  {
   "cell_type": "code",
   "execution_count": 7,
   "metadata": {},
   "outputs": [
    {
     "name": "stdout",
     "output_type": "stream",
     "text": [
      "{'query': 'AskDjango', 'where': 'post', 'start': 1}\n",
      "{'query': 'AskDjango', 'where': 'post', 'start': 11}\n",
      "{'query': 'AskDjango', 'where': 'post', 'start': 21}\n",
      "{'query': 'AskDjango', 'where': 'post', 'start': 31}\n",
      "{'query': 'AskDjango', 'where': 'post', 'start': 41}\n",
      "{'query': 'AskDjango', 'where': 'post', 'start': 51}\n",
      "{'query': 'AskDjango', 'where': 'post', 'start': 61}\n"
     ]
    },
    {
     "data": {
      "text/plain": [
       "OrderedDict([('http://secure-edu.tistory.com/1846',\n",
       "              '[온오프믹스][AskDjango 특강] 장고 간단 튜토리얼 및 Azure...'),\n",
       "             ('http://myjorney.tistory.com/26',\n",
       "              'Askdjango) 파이썬 기본문법 정리 18) 파이썬 클래스...'),\n",
       "             ('http://the7mincheol.blog.me/220940162131',\n",
       "              '2017.02 네이버 맞춤법 검사기 (출처: askdjango)'),\n",
       "             ('http://blog.naver.com/scarletbreez?Redirect=Log&logNo=221178294385',\n",
       "              'askdjango - 개발 환경 강의 정리'),\n",
       "             ('http://myjorney.tistory.com/4',\n",
       "              'Askdjango) 파이썬 기본문법 정리3)python 파이썬 들여쓰기...'),\n",
       "             ('http://myjorney.tistory.com/1',\n",
       "              'Askdjango) 파이썬 기본문법 정리1_파이썬의 코드 실행방법...'),\n",
       "             ('http://the7mincheol.blog.me/220947602901',\n",
       "              '2017.03 멜론 노래 검색기 (출처: askdjango)'),\n",
       "             ('http://myjorney.tistory.com/2',\n",
       "              'Askdjango) 파이썬 기본문법 정리)2.파이썬의 기본...'),\n",
       "             ('http://myjorney.tistory.com/21',\n",
       "              'Askdjango) 파이썬 기본문법 정리 16) 파이썬 인코딩...'),\n",
       "             ('http://myjorney.tistory.com/15',\n",
       "              'Askdjango) 파이썬 기본문법 정리 12) 파이썬 빌트인함수...'),\n",
       "             ('http://blog.naver.com/lys1900?Redirect=Log&logNo=221007039328',\n",
       "              '[ Android ] FCM 푸시 관련'),\n",
       "             ('http://secure-edu.tistory.com/1857',\n",
       "              '[온오프믹스]2017 제3회 오픈소스 성공사례 세미나 [종료]'),\n",
       "             ('http://myjorney.tistory.com/28',\n",
       "              'Askdjango) 파이썬 기본문법 정리 19) 파이썬 호출...'),\n",
       "             ('http://harryp.tistory.com/517',\n",
       "              '[컨퍼런스 정보] Saturday Azure Live, 1703 (17.03.11)'),\n",
       "             ('http://blog.naver.com/cyberpass?Redirect=Log&logNo=220962782139',\n",
       "              'Global Azure Bootcamp x Korea 2017'),\n",
       "             ('http://blog.naver.com/thnam91?Redirect=Log&logNo=221044591975',\n",
       "              '크롤링 실습 - 네이버 블로그'),\n",
       "             ('http://blog.naver.com/answn3475?Redirect=Log&logNo=221125073519',\n",
       "              '[Python] Selenium 카페 글쓰기 자동화'),\n",
       "             ('http://blog.naver.com/jjusik2?Redirect=Log&logNo=221154408195',\n",
       "              'Google Firebase를 통한 로그인 처리 관련'),\n",
       "             ('http://blog.naver.com/erp2001?Redirect=Log&logNo=221132495962',\n",
       "              '개발자에게 도움이되는 사이트나 글'),\n",
       "             ('http://darksilber.tistory.com/entry/Firebase-Cloud-MessagingFCM',\n",
       "              'Firebase Cloud Messaging(FCM)'),\n",
       "             ('http://blog.naver.com/sdzaq?Redirect=Log&logNo=220874342874',\n",
       "              'Django Project Azure WebApp 배포 + Git 연동'),\n",
       "             ('http://secure-edu.tistory.com/1844', '[온오프믹스]제2회 게임문화포럼 [종료]'),\n",
       "             ('http://rednooby.tistory.com/104',\n",
       "              '[Python] 크롤링 예제. Lv3 자바스크립트 렌더링 크롤링 풀이'),\n",
       "             ('http://blog.naver.com/timothym?Redirect=Log&logNo=221029045962',\n",
       "              '크롤링'),\n",
       "             ('http://myjorney.tistory.com/30',\n",
       "              '<world nomade의 django 여행> Django admin url 변경을 통안...'),\n",
       "             ('http://blog.naver.com/thnam91?Redirect=Log&logNo=221043942283',\n",
       "              'Web Crawling'),\n",
       "             ('http://month6000.tistory.com/20', 'Django 기본에 대한 괜찮은 강좌'),\n",
       "             ('http://the7mincheol.blog.me/220965280771', '20170323 오늘의 자기계발'),\n",
       "             ('http://blog.naver.com/bhk1304?Redirect=Log&logNo=221071294533',\n",
       "              '파이썬(Python) 학습의 주요분야 및 학습리소스'),\n",
       "             ('http://blog.naver.com/davidkim9204?Redirect=Log&logNo=220926355947',\n",
       "              '2017-02-03 (12일차)'),\n",
       "             ('http://blog.naver.com/scarletbreez?Redirect=Log&logNo=220940213899',\n",
       "              '2.3 피로그래밍 후의 계획'),\n",
       "             ('http://rednooby.tistory.com/102',\n",
       "              '[Python] 크롤링 예제. Lv1 단순 HTML 크롤링 풀이'),\n",
       "             ('http://myjorney.tistory.com/76', '파이썬의 리스트와 튜플 조금 더 깊게 이해하기.'),\n",
       "             ('http://blog.naver.com/thnam91?Redirect=Log&logNo=221044548892',\n",
       "              '크롤링 실습 - 네이버 실시간 검색어'),\n",
       "             ('http://blog.naver.com/2002shihoo?Redirect=Log&logNo=220863468052',\n",
       "              'Django Girls Seoul! 프로그래밍 워크샵에 참여하다!'),\n",
       "             ('https://dojunblog.wordpress.com/2017/05/24/%EB%82%B4%EA%B0%80-django%EB%A5%BC-%EC%B2%98%EC%9D%8C-%EC%8B%9C%EC%9E%91%ED%96%88%EB%8D%98-%EB%B0%A9%EB%B2%95/',\n",
       "              '내가 Django를 처음 시작했던 방법'),\n",
       "             ('http://the7mincheol.blog.me/220956084165', '20170312 오늘의 자기계발'),\n",
       "             ('http://codemath.tistory.com/34',\n",
       "              '[Django] Jupyter notebook 사용하기 - Django shell'),\n",
       "             ('http://rednooby.tistory.com/103',\n",
       "              '[Python] 크롤링 예제. Lv2 Ajax 렌더링 크롤링 풀이'),\n",
       "             ('http://myjorney.tistory.com/41',\n",
       "              'World Nomade의 크롤링한 내용 + 카카오톡 봇 만들기...'),\n",
       "             ('http://blog.naver.com/thnam91?Redirect=Log&logNo=221046183530',\n",
       "              '크롤링 실습 - 굿모니터링 웹페이지'),\n",
       "             ('http://blog.naver.com/answn3475?Redirect=Log&logNo=221125660580',\n",
       "              '[Python] find & CSS Selector을 이용한 크롤링'),\n",
       "             ('http://dooha.tistory.com/15', 'Django Multiple Database'),\n",
       "             ('http://blog.naver.com/nagano_i?Redirect=Log&logNo=220895024592',\n",
       "              'Python-국회 사이트 국회의원 목록 크롤링'),\n",
       "             ('http://the7mincheol.blog.me/220949806745',\n",
       "              '20170304 오늘의 자기계발__계획을 세우는 이유와 의미'),\n",
       "             ('http://suspected.tistory.com/entry/Django-Pycharm%EC%97%90%EC%84%9C-Django-%EC%8B%A4%EC%8A%B5-%EA%B2%8C%EC%8B%9C%ED%8C%90%EB%8C%93%EA%B8%80%EA%B8%B0%EB%8A%A5',\n",
       "              '[Django] Pycharm에서 Django 실습 - 게시판,댓글...'),\n",
       "             ('http://blog.naver.com/thnam91?Redirect=Log&logNo=221045219083',\n",
       "              '크롤링 실습 - 빅카인즈 검색 결과'),\n",
       "             ('http://blog.naver.com/thnam91?Redirect=Log&logNo=221043315992',\n",
       "              'Django 설치 및 Overview'),\n",
       "             ('http://blog.naver.com/thnam91?Redirect=Log&logNo=221045805076',\n",
       "              '크롤링 실습 - 네이버 맞춤법 검사기'),\n",
       "             ('http://blog.naver.com/thnam91?Redirect=Log&logNo=221046102121',\n",
       "              '크롤링 실습 - 멜론 TOP100 / 시대별 차트'),\n",
       "             ('http://blog.naver.com/thnam91?Redirect=Log&logNo=221042243083',\n",
       "              'Slack bot으로 메세지 자동으로 보내기'),\n",
       "             ('http://blog.naver.com/thnam91?Redirect=Log&logNo=221044954143',\n",
       "              '크롤링 응용 - 네이버 웹툰 다운로더'),\n",
       "             ('http://blog.naver.com/thnam91?Redirect=Log&logNo=221024077044',\n",
       "              '자동으로 SMS 보내기'),\n",
       "             ('http://blog.naver.com/thnam91?Redirect=Log&logNo=221044025458',\n",
       "              'Pillow 라이브러리'),\n",
       "             ('http://blog.naver.com/thnam91?Redirect=Log&logNo=221044229334',\n",
       "              'BeautifulSoup4 라이브러리'),\n",
       "             ('http://blog.naver.com/thnam91?Redirect=Log&logNo=221024784006',\n",
       "              'Requests 라이브러리'),\n",
       "             ('http://blog.naver.com/thnam91?Redirect=Log&logNo=221064875953',\n",
       "              '카카오톡 플러스친구 봇 제작 - GIST 식단표 알림'),\n",
       "             ('http://blog.naver.com/thnam91?Redirect=Log&logNo=221045717832',\n",
       "              '중고나라에 찾는 물건 올라오면 알려주기'),\n",
       "             ('http://the7mincheol.blog.me/220969532801',\n",
       "              'Python ::: 경로에서 파일 이름만 추출하기'),\n",
       "             ('http://happytime3.tistory.com/2143', '펌 IT 인터넷 0318')])"
      ]
     },
     "execution_count": 7,
     "metadata": {},
     "output_type": "execute_result"
    }
   ],
   "source": [
    "naver_blog_search_5(\"AskDjango\")"
   ]
  },
  {
   "cell_type": "markdown",
   "metadata": {},
   "source": [
    "### 임의적으로 range 를 1에서 100 까지 주는 것은 좋지 않다.\n",
    "      from ltertools import count 의 함수를 이용하자 이  함수는\n",
    "      지속적으로 숫자를 생산해주는 generator 해서 값을 순회 한다.\n",
    "      값을 return 하거나 break 하기 전까지 계속한다."
   ]
  },
  {
   "cell_type": "code",
   "execution_count": 13,
   "metadata": {},
   "outputs": [],
   "source": [
    "from collections import OrderedDict\n",
    "from itertools import count\n",
    "\n",
    "def naver_blog_search_6(q):\n",
    "    url = \"https://search.naver.com/search.naver\"\n",
    "    post_dict = OrderedDict()\n",
    "    for page in count(1):\n",
    "        params = {\n",
    "            \"where\" : \"post\",\n",
    "            \"query\" : q,\n",
    "            \"start\" : (page -1) * 10 +1\n",
    "        }\n",
    "        requests_headers = {\n",
    "            \"Referer\" : \"https://www.naver.com/\"\n",
    "        }\n",
    "        print(params)\n",
    "        html = requests.get(url,params = params, headers = requests_headers).text\n",
    "        soup = BeautifulSoup(html,\"html.parser\")\n",
    "        for tag in soup.select(\".sh_blog_title\"):\n",
    "            if tag[\"href\"] in post_dict:\n",
    "                return post_dict\n",
    "            #### 왜 break 가 아니라 return 이냐면, \n",
    "            ## break를 쓰게 되면 위에 있는 for문 까지 한번에 빠져나가게 된다.\n",
    "            else:\n",
    "                post_dict[tag[\"href\"]] = tag.text\n",
    "        \n",
    "        return post_dict"
   ]
  },
  {
   "cell_type": "code",
   "execution_count": 14,
   "metadata": {},
   "outputs": [
    {
     "name": "stdout",
     "output_type": "stream",
     "text": [
      "{'where': 'post', 'query': 'askDjango', 'start': 1}\n"
     ]
    },
    {
     "data": {
      "text/plain": [
       "OrderedDict([('http://secure-edu.tistory.com/1846',\n",
       "              '[온오프믹스][AskDjango 특강] 장고 간단 튜토리얼 및 Azure...'),\n",
       "             ('http://myjorney.tistory.com/26',\n",
       "              'Askdjango) 파이썬 기본문법 정리 18) 파이썬 클래스...'),\n",
       "             ('http://the7mincheol.blog.me/220940162131',\n",
       "              '2017.02 네이버 맞춤법 검사기 (출처: askdjango)'),\n",
       "             ('http://blog.naver.com/scarletbreez?Redirect=Log&logNo=221178294385',\n",
       "              'askdjango - 개발 환경 강의 정리'),\n",
       "             ('http://myjorney.tistory.com/4',\n",
       "              'Askdjango) 파이썬 기본문법 정리3)python 파이썬 들여쓰기...'),\n",
       "             ('http://myjorney.tistory.com/1',\n",
       "              'Askdjango) 파이썬 기본문법 정리1_파이썬의 코드 실행방법...'),\n",
       "             ('http://the7mincheol.blog.me/220947602901',\n",
       "              '2017.03 멜론 노래 검색기 (출처: askdjango)'),\n",
       "             ('http://myjorney.tistory.com/2',\n",
       "              'Askdjango) 파이썬 기본문법 정리)2.파이썬의 기본...'),\n",
       "             ('http://myjorney.tistory.com/21',\n",
       "              'Askdjango) 파이썬 기본문법 정리 16) 파이썬 인코딩...'),\n",
       "             ('http://myjorney.tistory.com/15',\n",
       "              'Askdjango) 파이썬 기본문법 정리 12) 파이썬 빌트인함수...')])"
      ]
     },
     "execution_count": 14,
     "metadata": {},
     "output_type": "execute_result"
    }
   ],
   "source": [
    "naver_blog_search_6(\"askDjango\")"
   ]
  },
  {
   "cell_type": "markdown",
   "metadata": {},
   "source": [
    "### max page 인자까지 받는 함수를 만들어보자"
   ]
  },
  {
   "cell_type": "code",
   "execution_count": 15,
   "metadata": {
    "collapsed": true
   },
   "outputs": [],
   "source": [
    "from collections import OrderedDict\n",
    "from itertools import count\n",
    "\n",
    "def naver_blog_search_7(q, max_page = None):\n",
    "    ### \"= None \"의 의미는 인자를 입력하지 않아아도 실행이 가능하게 한다.\n",
    "    url = \"https://search.naver.com/search.naver\"\n",
    "    \n",
    "    post_dict = OrderedDict()\n",
    "    #### 페이지 수를\n",
    "    for page in count(1):\n",
    "        params = {\n",
    "            \"query\" : q,\n",
    "            \"where\" : \"post\",\n",
    "            \"start\" : (page-1)*10 + 1 \n",
    "        }\n",
    "        requests_headers = {\n",
    "        \"Referer\" : \"https://www.naver.com/\"\n",
    "        }\n",
    "        html = requests.get(url,params = params,headers = requests_headers ).text\n",
    "        soup = BeautifulSoup(html,\"html.parser\")\n",
    "        print(params)\n",
    "        ###### , 각 단계의 href의 값을  순서있는 사전에 넣는다.!\n",
    "        for tag in soup.select(\".sh_blog_title\"):\n",
    "            if tag[\"href\"] in post_dict:\n",
    "                return post_dict\n",
    "            else:\n",
    "                post_dict[tag[\"href\"]] = tag.text\n",
    "        \n",
    "        if max_page and (page >= max_page):\n",
    "            ### 만약 max_page 가 존재하고, and 다음과 같은 수식을 만족시키면\n",
    "            break\n",
    "        \n",
    "    return post_dict"
   ]
  },
  {
   "cell_type": "code",
   "execution_count": 20,
   "metadata": {},
   "outputs": [
    {
     "name": "stdout",
     "output_type": "stream",
     "text": [
      "{'query': 'askDjango', 'where': 'post', 'start': 1}\n",
      "{'query': 'askDjango', 'where': 'post', 'start': 11}\n",
      "{'query': 'askDjango', 'where': 'post', 'start': 21}\n",
      "{'query': 'askDjango', 'where': 'post', 'start': 31}\n",
      "{'query': 'askDjango', 'where': 'post', 'start': 41}\n",
      "{'query': 'askDjango', 'where': 'post', 'start': 51}\n",
      "{'query': 'askDjango', 'where': 'post', 'start': 61}\n",
      "{'query': 'askDjango', 'where': 'post', 'start': 1}\n",
      "{'query': 'askDjango', 'where': 'post', 'start': 11}\n",
      "{'query': 'askDjango', 'where': 'post', 'start': 21}\n"
     ]
    }
   ],
   "source": [
    "result_2 = naver_blog_search_7(\"askDjango\")\n",
    "result_3 = naver_blog_search_7(\"askDjango\",3)"
   ]
  },
  {
   "cell_type": "code",
   "execution_count": 19,
   "metadata": {},
   "outputs": [
    {
     "data": {
      "text/plain": [
       "60"
      ]
     },
     "execution_count": 19,
     "metadata": {},
     "output_type": "execute_result"
    }
   ],
   "source": [
    "len(result_2)"
   ]
  },
  {
   "cell_type": "code",
   "execution_count": 22,
   "metadata": {},
   "outputs": [
    {
     "data": {
      "text/plain": [
       "30"
      ]
     },
     "execution_count": 22,
     "metadata": {},
     "output_type": "execute_result"
    }
   ],
   "source": [
    "len(result_3)"
   ]
  },
  {
   "cell_type": "code",
   "execution_count": 23,
   "metadata": {
    "collapsed": true
   },
   "outputs": [],
   "source": []
  },
  {
   "cell_type": "code",
   "execution_count": null,
   "metadata": {
    "collapsed": true
   },
   "outputs": [],
   "source": [
    "##### 블로그의 날짜와 요약 설명도 같이 크롤링 하는 것도 해보자!"
   ]
  },
  {
   "cell_type": "markdown",
   "metadata": {},
   "source": [
    "## 네이버 실시간 정리"
   ]
  },
  {
   "cell_type": "code",
   "execution_count": null,
   "metadata": {
    "collapsed": true
   },
   "outputs": [],
   "source": [
    "import requests\n",
    "from bs4 import BeautifulSoup\n",
    "\n",
    "url_2 = \"https://www.naver.com/\"\n",
    "html_2 = requests.get(url_2).text\n",
    "soup_2 = BeautifulSoup(html_2,\"html.parser\")\n",
    "\n",
    "tag_list_2 = soup_2.select(\".PM_CL_realtimeKeyword_rolling .ah_l .ah_item .ah_k\") \n",
    "\n",
    "for num,tag in enumerate(tag_list_2,1):\n",
    "    print(num,tag.text)"
   ]
  },
  {
   "cell_type": "markdown",
   "metadata": {},
   "source": [
    "## 네이버 블로그 정리"
   ]
  },
  {
   "cell_type": "code",
   "execution_count": null,
   "metadata": {
    "collapsed": true
   },
   "outputs": [],
   "source": [
    "import requests\n",
    "from bs4 import BeautifulSoup\n",
    "from collections import OrderedDict\n",
    "from itertools import count\n",
    "\n",
    "\n",
    "def naver_blog_search_7(q, max_page = None):\n",
    "    url = \"https://search.naver.com/search.naver\"\n",
    "    post_dict = OrderedDict()\n",
    "    for page in count(1):\n",
    "        params = {\n",
    "            \"query\" : q,\n",
    "            \"where\" : \"post\",\n",
    "            \"start\" : (page-1)*10 + 1 \n",
    "        }\n",
    "        requests_headers = {\n",
    "        \"Referer\" : \"https://www.naver.com/\"\n",
    "        }\n",
    "        html = requests.get(url,params = params,headers = requests_headers ).text\n",
    "        soup = BeautifulSoup(html,\"html.parser\")\n",
    "        print(params)\n",
    "        for tag in soup.select(\".sh_blog_title\"):\n",
    "            if tag[\"href\"] in post_dict:\n",
    "                return post_dict\n",
    "            else:\n",
    "                post_dict[tag[\"href\"]] = tag.text\n",
    "        \n",
    "        if max_page and (page >= max_page):\n",
    "            break\n",
    "        \n",
    "    return post_dict"
   ]
  },
  {
   "cell_type": "markdown",
   "metadata": {},
   "source": [
    "### 과제) 블로그의 날짜와 요약 설명도 같이 크롤링 하는 것도 해보자!"
   ]
  },
  {
   "cell_type": "code",
   "execution_count": 26,
   "metadata": {
    "collapsed": true
   },
   "outputs": [],
   "source": [
    "import requests\n",
    "from bs4 import BeautifulSoup\n",
    "from collections import OrderedDict\n",
    "from itertools import count\n",
    "\n",
    "\n",
    "def naver_blog_search_8(q, max_page = None):\n",
    "    url = \"https://search.naver.com/search.naver\"\n",
    "    post_dict = OrderedDict()\n",
    "    for page in count(1):\n",
    "        params = {\n",
    "            \"query\" : q,\n",
    "            \"where\" : \"post\",\n",
    "            \"start\" : (page-1)*10 + 1 \n",
    "        }\n",
    "        requests_headers = {\n",
    "        \"Referer\" : \"https://www.naver.com/\"\n",
    "        }\n",
    "        html = requests.get(url,params = params,headers = requests_headers ).text\n",
    "        soup = BeautifulSoup(html,\"html.parser\")\n",
    "        print(params)\n",
    "        for tag in soup.select(\".sh_blog_top\"):\n",
    "            if tag.tag_sh_blog_title[\"href\"] in post_dict:\n",
    "                return post_dict\n",
    "            else:\n",
    "                post_dict[tag.sh_blog_title[\"href\"]] = tag.sh_blog_title.text,tag.txt_inline.text,tag.sh_blog_passage.text\n",
    "        \n",
    "        if max_page and (page >= max_page):\n",
    "            break\n",
    "        \n",
    "    return post_dict"
   ]
  },
  {
   "cell_type": "code",
   "execution_count": 27,
   "metadata": {},
   "outputs": [
    {
     "name": "stdout",
     "output_type": "stream",
     "text": [
      "{'query': 'askDjango', 'where': 'post', 'start': 1}\n"
     ]
    },
    {
     "ename": "TypeError",
     "evalue": "'NoneType' object is not subscriptable",
     "output_type": "error",
     "traceback": [
      "\u001b[1;31m---------------------------------------------------------------------------\u001b[0m",
      "\u001b[1;31mTypeError\u001b[0m                                 Traceback (most recent call last)",
      "\u001b[1;32m<ipython-input-27-a7979a306068>\u001b[0m in \u001b[0;36m<module>\u001b[1;34m()\u001b[0m\n\u001b[1;32m----> 1\u001b[1;33m \u001b[0mnaver_blog_search_8\u001b[0m\u001b[1;33m(\u001b[0m\u001b[1;34m\"askDjango\"\u001b[0m\u001b[1;33m)\u001b[0m\u001b[1;33m\u001b[0m\u001b[0m\n\u001b[0m",
      "\u001b[1;32m<ipython-input-26-d234056d2fa8>\u001b[0m in \u001b[0;36mnaver_blog_search_8\u001b[1;34m(q, max_page)\u001b[0m\n\u001b[0;32m     21\u001b[0m         \u001b[0mprint\u001b[0m\u001b[1;33m(\u001b[0m\u001b[0mparams\u001b[0m\u001b[1;33m)\u001b[0m\u001b[1;33m\u001b[0m\u001b[0m\n\u001b[0;32m     22\u001b[0m         \u001b[1;32mfor\u001b[0m \u001b[0mtag\u001b[0m \u001b[1;32min\u001b[0m \u001b[0msoup\u001b[0m\u001b[1;33m.\u001b[0m\u001b[0mselect\u001b[0m\u001b[1;33m(\u001b[0m\u001b[1;34m\".sh_blog_top\"\u001b[0m\u001b[1;33m)\u001b[0m\u001b[1;33m:\u001b[0m\u001b[1;33m\u001b[0m\u001b[0m\n\u001b[1;32m---> 23\u001b[1;33m             \u001b[1;32mif\u001b[0m \u001b[0mtag\u001b[0m\u001b[1;33m.\u001b[0m\u001b[0mtag_sh_blog_title\u001b[0m\u001b[1;33m[\u001b[0m\u001b[1;34m\"href\"\u001b[0m\u001b[1;33m]\u001b[0m \u001b[1;32min\u001b[0m \u001b[0mpost_dict\u001b[0m\u001b[1;33m:\u001b[0m\u001b[1;33m\u001b[0m\u001b[0m\n\u001b[0m\u001b[0;32m     24\u001b[0m                 \u001b[1;32mreturn\u001b[0m \u001b[0mpost_dict\u001b[0m\u001b[1;33m\u001b[0m\u001b[0m\n\u001b[0;32m     25\u001b[0m             \u001b[1;32melse\u001b[0m\u001b[1;33m:\u001b[0m\u001b[1;33m\u001b[0m\u001b[0m\n",
      "\u001b[1;31mTypeError\u001b[0m: 'NoneType' object is not subscriptable"
     ]
    }
   ],
   "source": [
    "naver_blog_search_8(\"askDjango\")"
   ]
  },
  {
   "cell_type": "code",
   "execution_count": null,
   "metadata": {
    "collapsed": true
   },
   "outputs": [],
   "source": []
  }
 ],
 "metadata": {
  "kernelspec": {
   "display_name": "Python 3",
   "language": "python",
   "name": "python3"
  },
  "language_info": {
   "codemirror_mode": {
    "name": "ipython",
    "version": 3
   },
   "file_extension": ".py",
   "mimetype": "text/x-python",
   "name": "python",
   "nbconvert_exporter": "python",
   "pygments_lexer": "ipython3",
   "version": "3.6.1"
  }
 },
 "nbformat": 4,
 "nbformat_minor": 2
}
