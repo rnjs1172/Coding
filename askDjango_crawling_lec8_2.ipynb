{
 "cells": [
  {
   "cell_type": "markdown",
   "metadata": {},
   "source": [
    "# 웹툰이름 치면 자동으로 다운 받는 함수 만들기!"
   ]
  },
  {
   "cell_type": "code",
   "execution_count": null,
   "metadata": {
    "collapsed": true
   },
   "outputs": [],
   "source": [
    "import requests\n",
    "from bs4 import BeautifulSoup\n",
    "from collections import OrderedDict\n",
    "from itertools import count\n",
    "from IPython.display import Image\n",
    "from urllib.parse import urljoin\n",
    "\n",
    "\n",
    "import os"
   ]
  },
  {
   "cell_type": "code",
   "execution_count": 2,
   "metadata": {
    "collapsed": true
   },
   "outputs": [],
   "source": [
    "url_list = \"http://comic.naver.com/webtoon/list.nhn?titleId=650305&weekday=sat&page=8\"\n",
    "\n",
    "\n",
    "\n",
    "def webtoon_dowon(q):\n",
    "    ## q를 웹툰이름으로 지정하고 웹툰 이름을 입력하면, 네이버 검색을 통해 나오는 만화 정보에서 url에 포함되어 있는 정보를 긁어오는 식으로 하자.\n",
    "    or_dict = OrderedDict()\n",
    "    url_search = \"https://search.naver.com/search.naver\"\n",
    "    params_search = {\n",
    "        'query' : q\n",
    "    }\n",
    "    headers_search = {\n",
    "        \"Referer\" : \"https://www.naver.com/\"\n",
    "    }\n",
    "    html_search = requests.get(url_search,params = params_search, headers = headers_search).text\n",
    "    soup_search = BeautifulSoup(html_search,\"html.parser\")\n",
    "    web_id_href = soup_search.select(\".cont_area .cont a\")[0]####################33 이거 [0] 쓰는 이유 생각하기!!!!\n",
    "    ######### select 값중 일부를 불러올때. 위에처럼 리스트를 텍스트화 시키지 않으면, 그냥 리스트로 불러오면\n",
    "    ##= 그냥 오류가 생긴다. 반드시 위처럼 인덱싱을 통해서 리스트 를 벗겨내야 한다.\n",
    "    \n",
    "    url_list = web_id_href[\"href\"]\n",
    "    \n",
    "    for page in count(0):\n",
    "        params_list = {\n",
    "            \"page\" : page\n",
    "        }\n",
    "        headers_list = {\n",
    "            \"Referer\" : \"http://comic.aver.com/webtoon?list.nhn\"\n",
    "        }\n",
    "        html_list = requests.get(url_list,params=params_list,headers=headers_list).text\n",
    "        soup_list = BeautifulSoup(html_list,\"html.parser\")\n",
    "        \n",
    "        \n",
    "        \n",
    "        for tag in soup_list.select(\".viewList tr\"):\n",
    "            try:\n",
    "                a_tag = tag.select(\"a[href*=/webtoon/detail.nhn]\")[0]\n",
    "            except IndexError:\n",
    "                continue\n",
    "            url_ep = urljoin(url_list,a_tag[\"href\"])\n",
    "            a_img = a_tag.find(\"img\")\n",
    "            name_ep = a_img[\"title\"]\n",
    "            \n",
    "            if url_ep in or_dict:\n",
    "                return\n",
    "            \n",
    "            or_dict[url_ep] = url_ep\n",
    "            print(url_ep)\n",
    "        \n",
    "        \n",
    "        "
   ]
  },
  {
   "cell_type": "code",
   "execution_count": null,
   "metadata": {
    "collapsed": true
   },
   "outputs": [],
   "source": [
    "webtoon_dowon(\"호랑이형님\")"
   ]
  }
 ],
 "metadata": {
  "kernelspec": {
   "display_name": "Python 3",
   "language": "python",
   "name": "python3"
  },
  "language_info": {
   "codemirror_mode": {
    "name": "ipython",
    "version": 3
   },
   "file_extension": ".py",
   "mimetype": "text/x-python",
   "name": "python",
   "nbconvert_exporter": "python",
   "pygments_lexer": "ipython3",
   "version": "3.6.1"
  }
 },
 "nbformat": 4,
 "nbformat_minor": 2
}
