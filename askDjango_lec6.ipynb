{
 "cells": [
  {
   "cell_type": "markdown",
   "metadata": {},
   "source": [
    "## level 1 단순 HTML 크롤링"
   ]
  },
  {
   "cell_type": "code",
   "execution_count": null,
   "metadata": {
    "collapsed": true
   },
   "outputs": [],
   "source": [
    "import requests\n",
    "from bs4 import BeautifulSoup\n",
    "import pandas as pd\n",
    "url_1 = \"https://askdjango.github.io/lv1/\"\n",
    "url_1_check = requests.get(url_1)\n",
    "url_1_check.status_code\n",
    "### status_code 가 400 이상이 나오면 문제가 있는 것이다."
   ]
  },
  {
   "cell_type": "code",
   "execution_count": null,
   "metadata": {
    "collapsed": true
   },
   "outputs": [],
   "source": [
    "html_1 = requests.get(url_1).text\n",
    "soup_1 = BeautifulSoup(html_1,\"html.parser\")\n",
    "text_1 = []\n",
    "href_1 = []\n",
    "for tag in soup_1.select(\"#course_list > .course a\"):\n",
    "    text_1.append(tag.text)\n",
    "    ##tag.text = tag.get_text() 둘다 동일한 결과를 낸다.\n",
    "    href_1.append(tag[\"href\"])\n",
    "    print(tag.get_text(),tag[\"href\"])"
   ]
  },
  {
   "cell_type": "markdown",
   "metadata": {},
   "source": [
    "## level 2 Ajax 렌더링 크롤링"
   ]
  },
  {
   "cell_type": "code",
   "execution_count": 2,
   "metadata": {
    "collapsed": true
   },
   "outputs": [],
   "source": [
    "import requests"
   ]
  },
  {
   "cell_type": "code",
   "execution_count": 6,
   "metadata": {
    "collapsed": true
   },
   "outputs": [],
   "source": [
    "json_url = \"https://askdjango.github.io/lv2/data.json\"\n",
    "#html_1= requests.get(json_url).text\n",
    "##### 위에 html_1 변수에 있는것은 string (문자) 형태이지 HTML 형태가 아니다. \n",
    "##그럼으로\n",
    "string_1 = requests.get(json_url).text"
   ]
  },
  {
   "cell_type": "code",
   "execution_count": 7,
   "metadata": {},
   "outputs": [
    {
     "data": {
      "text/plain": [
       "'[\\n    {\\n        \"name\": \"개발환경 구축하기\",\\n        \"url\": \"https://nomade.kr/vod/setup/\"\\n    },\\n    {\\n        \"name\": \"파이썬 차근차근 시작하기\",\\n        \"url\": \"https://nomade.kr/vod/python/\"\\n    },\\n    {\\n        \"name\": \"크롤링 차근차근 시작하기\",\\n        \"url\": \"https://nomade.kr/vod/crawling/\"\\n    },\\n    {\\n        \"name\": \"파이썬으로 업무 자동화\",\\n        \"url\": \"https://nomade.kr/vod/automation/\"\\n    },\\n    {\\n        \"name\": \"장고 - 기본편\",\\n        \"url\": \"https://nomade.kr/vod/django/\"\\n    },\\n    {\\n        \"name\": \"장고걸스 튜토리얼\",\\n        \"url\": \"https://nomade.kr/vod/djangogirls/\"\\n    },\\n    {\\n        \"name\": \"장고 - Form/ModelForm 잘 알고 쓰기\",\\n        \"url\": \"https://nomade.kr/vod/form/\"\\n    },\\n    {\\n        \"name\": \"장고 - 클래스 기반 뷰. 잘 알고 쓰기\",\\n        \"url\": \"https://nomade.kr/vod/cbv/\"\\n    },\\n    {\\n        \"name\": \"장고 - 결제 시스템 연동\",\\n        \"url\": \"https://nomade.kr/vod/payment/\"\\n    },\\n    {\\n        \"name\": \"장고 - 웹 프론트엔드 시작편\",\\n        \"url\": \"https://nomade.kr/vod/frontend/\"\\n    },\\n    {\\n        \"name\": \"장고 - 다양한 위젯 만들기\",\\n        \"url\": \"https://nomade.kr/vod/widgets/\"\\n    },\\n    {\\n        \"name\": \"장고 - API 서버 만들기 및 초간단 안드로이드 앱 만들기\",\\n        \"url\": \"https://nomade.kr/vod/apiserver/\"\\n    },\\n    {\\n        \"name\": \"장고 - 하이브리드 앱 만들기\",\\n        \"url\": \"https://nomade.kr/vod/hybrid/\"\\n    },\\n    {\\n        \"name\": \"장고 - 서비스 배포하기\",\\n        \"url\": \"https://nomade.kr/vod/deploy/\"\\n    },\\n    {\\n        \"name\": \"장고 - 실전편 (Feat. 배달의 민족 St. 만들기)\",\\n        \"url\": \"https://nomade.kr/vod/django-baemin/\"\\n    },\\n    {\\n        \"name\": \"장고 - 실전편 (Feat. 인스타그램 St. 만들기)\",\\n        \"url\": \"https://nomade.kr/vod/django-instagram/\"\\n    }\\n]\\n'"
      ]
     },
     "execution_count": 7,
     "metadata": {},
     "output_type": "execute_result"
    }
   ],
   "source": [
    "string_1 ## 리스트와 그안에 dic 형태로 되어 있다."
   ]
  },
  {
   "cell_type": "code",
   "execution_count": 9,
   "metadata": {},
   "outputs": [
    {
     "data": {
      "text/plain": [
       "[{'name': '개발환경 구축하기', 'url': 'https://nomade.kr/vod/setup/'},\n",
       " {'name': '파이썬 차근차근 시작하기', 'url': 'https://nomade.kr/vod/python/'},\n",
       " {'name': '크롤링 차근차근 시작하기', 'url': 'https://nomade.kr/vod/crawling/'},\n",
       " {'name': '파이썬으로 업무 자동화', 'url': 'https://nomade.kr/vod/automation/'},\n",
       " {'name': '장고 - 기본편', 'url': 'https://nomade.kr/vod/django/'},\n",
       " {'name': '장고걸스 튜토리얼', 'url': 'https://nomade.kr/vod/djangogirls/'},\n",
       " {'name': '장고 - Form/ModelForm 잘 알고 쓰기', 'url': 'https://nomade.kr/vod/form/'},\n",
       " {'name': '장고 - 클래스 기반 뷰. 잘 알고 쓰기', 'url': 'https://nomade.kr/vod/cbv/'},\n",
       " {'name': '장고 - 결제 시스템 연동', 'url': 'https://nomade.kr/vod/payment/'},\n",
       " {'name': '장고 - 웹 프론트엔드 시작편', 'url': 'https://nomade.kr/vod/frontend/'},\n",
       " {'name': '장고 - 다양한 위젯 만들기', 'url': 'https://nomade.kr/vod/widgets/'},\n",
       " {'name': '장고 - API 서버 만들기 및 초간단 안드로이드 앱 만들기',\n",
       "  'url': 'https://nomade.kr/vod/apiserver/'},\n",
       " {'name': '장고 - 하이브리드 앱 만들기', 'url': 'https://nomade.kr/vod/hybrid/'},\n",
       " {'name': '장고 - 서비스 배포하기', 'url': 'https://nomade.kr/vod/deploy/'},\n",
       " {'name': '장고 - 실전편 (Feat. 배달의 민족 St. 만들기)',\n",
       "  'url': 'https://nomade.kr/vod/django-baemin/'},\n",
       " {'name': '장고 - 실전편 (Feat. 인스타그램 St. 만들기)',\n",
       "  'url': 'https://nomade.kr/vod/django-instagram/'}]"
      ]
     },
     "execution_count": 9,
     "metadata": {},
     "output_type": "execute_result"
    }
   ],
   "source": [
    "import json\n",
    "result = json.loads(string_1)\n",
    "result\n",
    "##리스트 하나에 name키와 url키가 존재한다."
   ]
  },
  {
   "cell_type": "code",
   "execution_count": 10,
   "metadata": {},
   "outputs": [
    {
     "data": {
      "text/plain": [
       "list"
      ]
     },
     "execution_count": 10,
     "metadata": {},
     "output_type": "execute_result"
    }
   ],
   "source": [
    "result.__class__"
   ]
  },
  {
   "cell_type": "code",
   "execution_count": 11,
   "metadata": {},
   "outputs": [
    {
     "data": {
      "text/plain": [
       "'개발환경 구축하기'"
      ]
     },
     "execution_count": 11,
     "metadata": {},
     "output_type": "execute_result"
    }
   ],
   "source": [
    "result[0][\"name\"]"
   ]
  },
  {
   "cell_type": "code",
   "execution_count": 12,
   "metadata": {},
   "outputs": [
    {
     "data": {
      "text/plain": [
       "'https://nomade.kr/vod/setup/'"
      ]
     },
     "execution_count": 12,
     "metadata": {},
     "output_type": "execute_result"
    }
   ],
   "source": [
    "result[0][\"url\"]"
   ]
  },
  {
   "cell_type": "code",
   "execution_count": 13,
   "metadata": {},
   "outputs": [
    {
     "name": "stdout",
     "output_type": "stream",
     "text": [
      "개발환경 구축하기 https://nomade.kr/vod/setup/\n",
      "파이썬 차근차근 시작하기 https://nomade.kr/vod/python/\n",
      "크롤링 차근차근 시작하기 https://nomade.kr/vod/crawling/\n",
      "파이썬으로 업무 자동화 https://nomade.kr/vod/automation/\n",
      "장고 - 기본편 https://nomade.kr/vod/django/\n",
      "장고걸스 튜토리얼 https://nomade.kr/vod/djangogirls/\n",
      "장고 - Form/ModelForm 잘 알고 쓰기 https://nomade.kr/vod/form/\n",
      "장고 - 클래스 기반 뷰. 잘 알고 쓰기 https://nomade.kr/vod/cbv/\n",
      "장고 - 결제 시스템 연동 https://nomade.kr/vod/payment/\n",
      "장고 - 웹 프론트엔드 시작편 https://nomade.kr/vod/frontend/\n",
      "장고 - 다양한 위젯 만들기 https://nomade.kr/vod/widgets/\n",
      "장고 - API 서버 만들기 및 초간단 안드로이드 앱 만들기 https://nomade.kr/vod/apiserver/\n",
      "장고 - 하이브리드 앱 만들기 https://nomade.kr/vod/hybrid/\n",
      "장고 - 서비스 배포하기 https://nomade.kr/vod/deploy/\n",
      "장고 - 실전편 (Feat. 배달의 민족 St. 만들기) https://nomade.kr/vod/django-baemin/\n",
      "장고 - 실전편 (Feat. 인스타그램 St. 만들기) https://nomade.kr/vod/django-instagram/\n"
     ]
    }
   ],
   "source": [
    "for coures in result:\n",
    "    print(coures[\"name\"],coures[\"url\"])"
   ]
  },
  {
   "cell_type": "markdown",
   "metadata": {},
   "source": [
    "### level 2 정리"
   ]
  },
  {
   "cell_type": "code",
   "execution_count": 15,
   "metadata": {},
   "outputs": [
    {
     "name": "stdout",
     "output_type": "stream",
     "text": [
      "개발환경 구축하기 https://nomade.kr/vod/setup/\n",
      "파이썬 차근차근 시작하기 https://nomade.kr/vod/python/\n",
      "크롤링 차근차근 시작하기 https://nomade.kr/vod/crawling/\n",
      "파이썬으로 업무 자동화 https://nomade.kr/vod/automation/\n",
      "장고 - 기본편 https://nomade.kr/vod/django/\n",
      "장고걸스 튜토리얼 https://nomade.kr/vod/djangogirls/\n",
      "장고 - Form/ModelForm 잘 알고 쓰기 https://nomade.kr/vod/form/\n",
      "장고 - 클래스 기반 뷰. 잘 알고 쓰기 https://nomade.kr/vod/cbv/\n",
      "장고 - 결제 시스템 연동 https://nomade.kr/vod/payment/\n",
      "장고 - 웹 프론트엔드 시작편 https://nomade.kr/vod/frontend/\n",
      "장고 - 다양한 위젯 만들기 https://nomade.kr/vod/widgets/\n",
      "장고 - API 서버 만들기 및 초간단 안드로이드 앱 만들기 https://nomade.kr/vod/apiserver/\n",
      "장고 - 하이브리드 앱 만들기 https://nomade.kr/vod/hybrid/\n",
      "장고 - 서비스 배포하기 https://nomade.kr/vod/deploy/\n",
      "장고 - 실전편 (Feat. 배달의 민족 St. 만들기) https://nomade.kr/vod/django-baemin/\n",
      "장고 - 실전편 (Feat. 인스타그램 St. 만들기) https://nomade.kr/vod/django-instagram/\n"
     ]
    }
   ],
   "source": [
    "import requests\n",
    "import json\n",
    "\n",
    "json_url = \"https://askdjango.github.io/lv2/data.json\"\n",
    "json_string = requests.get(json_url).text\n",
    "result = json.loads(json_string)\n",
    "\n",
    "for course in result:\n",
    "    ##print(course[\"name\"],coures[\"url\"])\n",
    "    print(\"{name} {url}\".format(**course))#### 사전 형태이기 떄문에 이렇게도 가능하다."
   ]
  },
  {
   "cell_type": "markdown",
   "metadata": {
    "collapsed": true
   },
   "source": [
    "## level 3 JAVA Script 랜더링"
   ]
  },
  {
   "cell_type": "code",
   "execution_count": 2,
   "metadata": {
    "collapsed": true
   },
   "outputs": [],
   "source": [
    "import re\n",
    "import requests"
   ]
  },
  {
   "cell_type": "code",
   "execution_count": 3,
   "metadata": {},
   "outputs": [
    {
     "data": {
      "text/plain": [
       "200"
      ]
     },
     "execution_count": 3,
     "metadata": {},
     "output_type": "execute_result"
    }
   ],
   "source": [
    "url_3 = \"https://askdjango.github.io/lv3/\"\n",
    "status_3 = requests.get(url_3)\n",
    "status_3.status_code## 정상"
   ]
  },
  {
   "cell_type": "code",
   "execution_count": 10,
   "metadata": {},
   "outputs": [],
   "source": [
    "html_3 = requests.get(url_3).text\n",
    "re.search(r'var courses = (.+) ;',html_3)### 아무것도 리턴을 하지 않는다."
   ]
  },
  {
   "cell_type": "code",
   "execution_count": 11,
   "metadata": {},
   "outputs": [
    {
     "data": {
      "text/plain": [
       "<_sre.SRE_Match object; span=(245, 3294), match='var courses = [\\n        {\"name\": \"개발환경 구축하기\", \"u>"
      ]
     },
     "execution_count": 11,
     "metadata": {},
     "output_type": "execute_result"
    }
   ],
   "source": [
    "### 계행을 고려해야 한다. ( ,로 줄이 나누어 진것을 고려해야)\n",
    "re.search(r'var courses = (.+);',html_3, re.S)"
   ]
  },
  {
   "cell_type": "code",
   "execution_count": 15,
   "metadata": {},
   "outputs": [
    {
     "data": {
      "text/plain": [
       "'[\\n        {\"name\": \"개발환경 구축하기\", \"url\": \"https://nomade.kr/vod/setup/\"},\\n        {\"name\": \"파이썬 차근차근 시작하기\", \"url\": \"https://nomade.kr/vod/python/\"},\\n        {\"name\": \"크롤링 차근차근 시작하기\", \"url\": \"https://nomade.kr/vod/crawling/\"},\\n        {\"name\": \"파이썬으로 업무 자동화\", \"url\": \"https://nomade.kr/vod/automation/\"},\\n        {\"name\": \"장고 - 기본편\", \"url\": \"https://nomade.kr/vod/django/\"},\\n        {\"name\": \"장고걸스 튜토리얼\", \"url\": \"https://nomade.kr/vod/djangogirls/\"},\\n        {\"name\": \"장고 - Form/ModelForm 잘 알고 쓰기\", \"url\": \"https://nomade.kr/vod/form/\"},\\n        {\"name\": \"장고 - 클래스 기반 뷰. 잘 알고 쓰기\", \"url\": \"https://nomade.kr/vod/cbv/\"},\\n        {\"name\": \"장고 - 결제 시스템 연동\", \"url\": \"https://nomade.kr/vod/payment/\"},\\n        {\"name\": \"장고 - 웹 프론트엔드 시작편\", \"url\": \"https://nomade.kr/vod/frontend/\"},\\n        {\"name\": \"장고 - 다양한 위젯 만들기\", \"url\": \"https://nomade.kr/vod/widgets/\"},\\n        {\"name\": \"장고 - API 서버 만들기 및 초간단 안드로이드 앱 만들기\", \"url\": \"https://nomade.kr/vod/apiserver/\"},\\n        {\"name\": \"장고 - 하이브리드 앱 만들기\", \"url\": \"https://nomade.kr/vod/hybrid/\"},\\n        {\"name\": \"장고 - 서비스 배포하기\", \"url\": \"https://nomade.kr/vod/deploy/\"},\\n        {\"name\": \"장고 - 실전편 (Feat. 배달의 민족 St. 만들기)\", \"url\": \"https://nomade.kr/vod/django-baemin/\"},\\n        {\"name\": \"장고 - 실전편 (Feat. 인스타그램 St. 만들기)\", \"url\": \"https://nomade.kr/vod/django-instagram/\"}\\n    ];\\n    $.each(courses, function(idx, course) {\\n        var html = \\'<li class=\"course\"><a href=\"\\' + course.url + \\'\">\\' + course.name + \\'</a></li>\\';\\n        $(\\'#course_list\\').append($(html));\\n    });\\n});\\n</script>\\n</head>\\n<body>\\n<h1>AskDjango VOD</h1>\\n\\n<h2>[레벨3] 자바스크립트 렌더링 크롤링</h2>\\n\\n<p>본 페이지는 Ajax를 통해 데이터를 받아와서, 자바스크립트로 컨텐츠가 추가됩니다.</p>\\n\\n<ul id=\"course_list\">\\n</ul>\\n\\n<img src=\"https://nomade.kr/static/2017031408/nomadekr-og.jpg\" id=\"logo\" />\\n\\n<hr/>\\n\\n<h3>미션</h3>\\n\\n<ul>\\n    <li>위 VOD 코스의 코스명과 URL을 크롤링</li>\\n    <li>제약사항 : requests 라이브러리만을 사용하세요.</li>\\n</ul>\\n\\n실행 예시\\n\\n<pre>\\n    개발환경 구축하기 https://nomade.kr/vod/setup/\\n    파이썬 차근차근 시작하기 https://nomade.kr/vod/python/\\n    크롤링 차근차근 시작하기 https://nomade.kr/vod/crawling/\\n    파이썬으로 업무 자동화 https://nomade.kr/vod/automation/\\n    장고 - 기본편 https://nomade.kr/vod/django/\\n    장고걸스 튜토리얼 https://nomade.kr/vod/djangogirls/\\n    장고 - Form/ModelForm 잘 알고 쓰기 https://nomade.kr/vod/form/\\n    장고 - 클래스 기반 뷰. 잘 알고 쓰기 https://nomade.kr/vod/cbv/\\n    장고 - 결제 시스템 연동 https://nomade.kr/vod/payment/\\n    장고 - 웹 프론트엔드 시작편 https://nomade.kr/vod/frontend/\\n    장고 - 다양한 위젯 만들기 https://nomade.kr/vod/widgets/\\n    장고 - API 서버 만들기 및 초간단 안드로이드 앱 만들기 https://nomade.kr/vod/apiserver/\\n    장고 - 하이브리드 앱 만들기 https://nomade.kr/vod/hybrid/\\n    장고 - 서비스 배포하기 https://nomade.kr/vod/deploy/\\n    장고 - 실전편 (Feat. 배달의 민족 St. 만들기) https://nomade.kr/vod/django-baemin/\\n    장고 - 실전편 (Feat. 인스타그램 St. 만들기) https://nomade.kr/vod/django-instagram/\\n</pre>\\n\\n<p>AskDjango 크롤링 VOD를 통해 크롤링의 기본을 배우고, 꾸준히 크롤링을 연습해보세요.</p>\\n\\n<hr/>\\n    <p><a href=\"/\">home</a></p>\\n    <p>\\n    여러분의 파이썬/장고 페이스메이커가 되겠습니다. &dash; <a href=\"https://nomade.kr/vod/\">AskDjango VOD</a>\\n    </p>\\n    <p>\\n    &copy;\\n    <script>document.write((new Date()).getYear() + 1900)'"
      ]
     },
     "execution_count": 15,
     "metadata": {},
     "output_type": "execute_result"
    }
   ],
   "source": [
    "matched_3 = re.search(r'var courses = (.+);',html_3,re.S)\n",
    "######### (.+)뒤에 ;를 띄어쓰기 해서 하면 않된다. !!!\n",
    "matched_3.group(1)"
   ]
  },
  {
   "cell_type": "code",
   "execution_count": 16,
   "metadata": {},
   "outputs": [
    {
     "name": "stdout",
     "output_type": "stream",
     "text": [
      "[\n",
      "        {\"name\": \"개발환경 구축하기\", \"url\": \"https://nomade.kr/vod/setup/\"},\n",
      "        {\"name\": \"파이썬 차근차근 시작하기\", \"url\": \"https://nomade.kr/vod/python/\"},\n",
      "        {\"name\": \"크롤링 차근차근 시작하기\", \"url\": \"https://nomade.kr/vod/crawling/\"},\n",
      "        {\"name\": \"파이썬으로 업무 자동화\", \"url\": \"https://nomade.kr/vod/automation/\"},\n",
      "        {\"name\": \"장고 - 기본편\", \"url\": \"https://nomade.kr/vod/django/\"},\n",
      "        {\"name\": \"장고걸스 튜토리얼\", \"url\": \"https://nomade.kr/vod/djangogirls/\"},\n",
      "        {\"name\": \"장고 - Form/ModelForm 잘 알고 쓰기\", \"url\": \"https://nomade.kr/vod/form/\"},\n",
      "        {\"name\": \"장고 - 클래스 기반 뷰. 잘 알고 쓰기\", \"url\": \"https://nomade.kr/vod/cbv/\"},\n",
      "        {\"name\": \"장고 - 결제 시스템 연동\", \"url\": \"https://nomade.kr/vod/payment/\"},\n",
      "        {\"name\": \"장고 - 웹 프론트엔드 시작편\", \"url\": \"https://nomade.kr/vod/frontend/\"},\n",
      "        {\"name\": \"장고 - 다양한 위젯 만들기\", \"url\": \"https://nomade.kr/vod/widgets/\"},\n",
      "        {\"name\": \"장고 - API 서버 만들기 및 초간단 안드로이드 앱 만들기\", \"url\": \"https://nomade.kr/vod/apiserver/\"},\n",
      "        {\"name\": \"장고 - 하이브리드 앱 만들기\", \"url\": \"https://nomade.kr/vod/hybrid/\"},\n",
      "        {\"name\": \"장고 - 서비스 배포하기\", \"url\": \"https://nomade.kr/vod/deploy/\"},\n",
      "        {\"name\": \"장고 - 실전편 (Feat. 배달의 민족 St. 만들기)\", \"url\": \"https://nomade.kr/vod/django-baemin/\"},\n",
      "        {\"name\": \"장고 - 실전편 (Feat. 인스타그램 St. 만들기)\", \"url\": \"https://nomade.kr/vod/django-instagram/\"}\n",
      "    ];\n",
      "    $.each(courses, function(idx, course) {\n",
      "        var html = '<li class=\"course\"><a href=\"' + course.url + '\">' + course.name + '</a></li>';\n",
      "        $('#course_list').append($(html));\n",
      "    });\n",
      "});\n",
      "</script>\n",
      "</head>\n",
      "<body>\n",
      "<h1>AskDjango VOD</h1>\n",
      "\n",
      "<h2>[레벨3] 자바스크립트 렌더링 크롤링</h2>\n",
      "\n",
      "<p>본 페이지는 Ajax를 통해 데이터를 받아와서, 자바스크립트로 컨텐츠가 추가됩니다.</p>\n",
      "\n",
      "<ul id=\"course_list\">\n",
      "</ul>\n",
      "\n",
      "<img src=\"https://nomade.kr/static/2017031408/nomadekr-og.jpg\" id=\"logo\" />\n",
      "\n",
      "<hr/>\n",
      "\n",
      "<h3>미션</h3>\n",
      "\n",
      "<ul>\n",
      "    <li>위 VOD 코스의 코스명과 URL을 크롤링</li>\n",
      "    <li>제약사항 : requests 라이브러리만을 사용하세요.</li>\n",
      "</ul>\n",
      "\n",
      "실행 예시\n",
      "\n",
      "<pre>\n",
      "    개발환경 구축하기 https://nomade.kr/vod/setup/\n",
      "    파이썬 차근차근 시작하기 https://nomade.kr/vod/python/\n",
      "    크롤링 차근차근 시작하기 https://nomade.kr/vod/crawling/\n",
      "    파이썬으로 업무 자동화 https://nomade.kr/vod/automation/\n",
      "    장고 - 기본편 https://nomade.kr/vod/django/\n",
      "    장고걸스 튜토리얼 https://nomade.kr/vod/djangogirls/\n",
      "    장고 - Form/ModelForm 잘 알고 쓰기 https://nomade.kr/vod/form/\n",
      "    장고 - 클래스 기반 뷰. 잘 알고 쓰기 https://nomade.kr/vod/cbv/\n",
      "    장고 - 결제 시스템 연동 https://nomade.kr/vod/payment/\n",
      "    장고 - 웹 프론트엔드 시작편 https://nomade.kr/vod/frontend/\n",
      "    장고 - 다양한 위젯 만들기 https://nomade.kr/vod/widgets/\n",
      "    장고 - API 서버 만들기 및 초간단 안드로이드 앱 만들기 https://nomade.kr/vod/apiserver/\n",
      "    장고 - 하이브리드 앱 만들기 https://nomade.kr/vod/hybrid/\n",
      "    장고 - 서비스 배포하기 https://nomade.kr/vod/deploy/\n",
      "    장고 - 실전편 (Feat. 배달의 민족 St. 만들기) https://nomade.kr/vod/django-baemin/\n",
      "    장고 - 실전편 (Feat. 인스타그램 St. 만들기) https://nomade.kr/vod/django-instagram/\n",
      "</pre>\n",
      "\n",
      "<p>AskDjango 크롤링 VOD를 통해 크롤링의 기본을 배우고, 꾸준히 크롤링을 연습해보세요.</p>\n",
      "\n",
      "<hr/>\n",
      "    <p><a href=\"/\">home</a></p>\n",
      "    <p>\n",
      "    여러분의 파이썬/장고 페이스메이커가 되겠습니다. &dash; <a href=\"https://nomade.kr/vod/\">AskDjango VOD</a>\n",
      "    </p>\n",
      "    <p>\n",
      "    &copy;\n",
      "    <script>document.write((new Date()).getYear() + 1900)\n"
     ]
    }
   ],
   "source": [
    "### 보기 힘드니까 기본 함수를 없애 주고 시각화 해주는 \"print\"를 써보자\n",
    "print(matched_3.group(1))"
   ]
  },
  {
   "cell_type": "code",
   "execution_count": 17,
   "metadata": {},
   "outputs": [
    {
     "name": "stdout",
     "output_type": "stream",
     "text": [
      "[\n",
      "        {\"name\": \"개발환경 구축하기\", \"url\": \"https://nomade.kr/vod/setup/\"},\n",
      "        {\"name\": \"파이썬 차근차근 시작하기\", \"url\": \"https://nomade.kr/vod/python/\"},\n",
      "        {\"name\": \"크롤링 차근차근 시작하기\", \"url\": \"https://nomade.kr/vod/crawling/\"},\n",
      "        {\"name\": \"파이썬으로 업무 자동화\", \"url\": \"https://nomade.kr/vod/automation/\"},\n",
      "        {\"name\": \"장고 - 기본편\", \"url\": \"https://nomade.kr/vod/django/\"},\n",
      "        {\"name\": \"장고걸스 튜토리얼\", \"url\": \"https://nomade.kr/vod/djangogirls/\"},\n",
      "        {\"name\": \"장고 - Form/ModelForm 잘 알고 쓰기\", \"url\": \"https://nomade.kr/vod/form/\"},\n",
      "        {\"name\": \"장고 - 클래스 기반 뷰. 잘 알고 쓰기\", \"url\": \"https://nomade.kr/vod/cbv/\"},\n",
      "        {\"name\": \"장고 - 결제 시스템 연동\", \"url\": \"https://nomade.kr/vod/payment/\"},\n",
      "        {\"name\": \"장고 - 웹 프론트엔드 시작편\", \"url\": \"https://nomade.kr/vod/frontend/\"},\n",
      "        {\"name\": \"장고 - 다양한 위젯 만들기\", \"url\": \"https://nomade.kr/vod/widgets/\"},\n",
      "        {\"name\": \"장고 - API 서버 만들기 및 초간단 안드로이드 앱 만들기\", \"url\": \"https://nomade.kr/vod/apiserver/\"},\n",
      "        {\"name\": \"장고 - 하이브리드 앱 만들기\", \"url\": \"https://nomade.kr/vod/hybrid/\"},\n",
      "        {\"name\": \"장고 - 서비스 배포하기\", \"url\": \"https://nomade.kr/vod/deploy/\"},\n",
      "        {\"name\": \"장고 - 실전편 (Feat. 배달의 민족 St. 만들기)\", \"url\": \"https://nomade.kr/vod/django-baemin/\"},\n",
      "        {\"name\": \"장고 - 실전편 (Feat. 인스타그램 St. 만들기)\", \"url\": \"https://nomade.kr/vod/django-instagram/\"}\n",
      "    ]\n"
     ]
    }
   ],
   "source": [
    "### 맨뒤에 있는 \";\"에 최대매칭을 해서 최소매칭으로 변경해야 한다. \n",
    "### 즉 가장 처음에 나오는 세미콜론만을 포함 시킨다.\n",
    "matched_4 = re.search(r'var courses = (.+?);',html_3,re.S)\n",
    "print(matched_4.group(1))"
   ]
  },
  {
   "cell_type": "code",
   "execution_count": 23,
   "metadata": {},
   "outputs": [
    {
     "data": {
      "text/plain": [
       "[{'name': '개발환경 구축하기', 'url': 'https://nomade.kr/vod/setup/'},\n",
       " {'name': '파이썬 차근차근 시작하기', 'url': 'https://nomade.kr/vod/python/'},\n",
       " {'name': '크롤링 차근차근 시작하기', 'url': 'https://nomade.kr/vod/crawling/'},\n",
       " {'name': '파이썬으로 업무 자동화', 'url': 'https://nomade.kr/vod/automation/'},\n",
       " {'name': '장고 - 기본편', 'url': 'https://nomade.kr/vod/django/'},\n",
       " {'name': '장고걸스 튜토리얼', 'url': 'https://nomade.kr/vod/djangogirls/'},\n",
       " {'name': '장고 - Form/ModelForm 잘 알고 쓰기', 'url': 'https://nomade.kr/vod/form/'},\n",
       " {'name': '장고 - 클래스 기반 뷰. 잘 알고 쓰기', 'url': 'https://nomade.kr/vod/cbv/'},\n",
       " {'name': '장고 - 결제 시스템 연동', 'url': 'https://nomade.kr/vod/payment/'},\n",
       " {'name': '장고 - 웹 프론트엔드 시작편', 'url': 'https://nomade.kr/vod/frontend/'},\n",
       " {'name': '장고 - 다양한 위젯 만들기', 'url': 'https://nomade.kr/vod/widgets/'},\n",
       " {'name': '장고 - API 서버 만들기 및 초간단 안드로이드 앱 만들기',\n",
       "  'url': 'https://nomade.kr/vod/apiserver/'},\n",
       " {'name': '장고 - 하이브리드 앱 만들기', 'url': 'https://nomade.kr/vod/hybrid/'},\n",
       " {'name': '장고 - 서비스 배포하기', 'url': 'https://nomade.kr/vod/deploy/'},\n",
       " {'name': '장고 - 실전편 (Feat. 배달의 민족 St. 만들기)',\n",
       "  'url': 'https://nomade.kr/vod/django-baemin/'},\n",
       " {'name': '장고 - 실전편 (Feat. 인스타그램 St. 만들기)',\n",
       "  'url': 'https://nomade.kr/vod/django-instagram/'}]"
      ]
     },
     "execution_count": 23,
     "metadata": {},
     "output_type": "execute_result"
    }
   ],
   "source": [
    "json_string_3 = matched_4.group(1)\n",
    "## matched_4.gorup(1)의 형태는 사전형태이다 이것을 변경해야 한다.\n",
    "## 이제 json 라이브러리 import 하여 원하는 형태로 변경한다. \n",
    "import json\n",
    "course_list_3 = json.loads(json_string_3)\n",
    "course_list_3"
   ]
  },
  {
   "cell_type": "code",
   "execution_count": 24,
   "metadata": {},
   "outputs": [
    {
     "name": "stdout",
     "output_type": "stream",
     "text": [
      "개발환경 구축하기 https://nomade.kr/vod/setup/\n",
      "파이썬 차근차근 시작하기 https://nomade.kr/vod/python/\n",
      "크롤링 차근차근 시작하기 https://nomade.kr/vod/crawling/\n",
      "파이썬으로 업무 자동화 https://nomade.kr/vod/automation/\n",
      "장고 - 기본편 https://nomade.kr/vod/django/\n",
      "장고걸스 튜토리얼 https://nomade.kr/vod/djangogirls/\n",
      "장고 - Form/ModelForm 잘 알고 쓰기 https://nomade.kr/vod/form/\n",
      "장고 - 클래스 기반 뷰. 잘 알고 쓰기 https://nomade.kr/vod/cbv/\n",
      "장고 - 결제 시스템 연동 https://nomade.kr/vod/payment/\n",
      "장고 - 웹 프론트엔드 시작편 https://nomade.kr/vod/frontend/\n",
      "장고 - 다양한 위젯 만들기 https://nomade.kr/vod/widgets/\n",
      "장고 - API 서버 만들기 및 초간단 안드로이드 앱 만들기 https://nomade.kr/vod/apiserver/\n",
      "장고 - 하이브리드 앱 만들기 https://nomade.kr/vod/hybrid/\n",
      "장고 - 서비스 배포하기 https://nomade.kr/vod/deploy/\n",
      "장고 - 실전편 (Feat. 배달의 민족 St. 만들기) https://nomade.kr/vod/django-baemin/\n",
      "장고 - 실전편 (Feat. 인스타그램 St. 만들기) https://nomade.kr/vod/django-instagram/\n"
     ]
    }
   ],
   "source": [
    "for course in course_list_3:\n",
    "    print(course[\"name\"],course[\"url\"])"
   ]
  },
  {
   "cell_type": "markdown",
   "metadata": {},
   "source": [
    "### level 3 정리"
   ]
  },
  {
   "cell_type": "code",
   "execution_count": 26,
   "metadata": {},
   "outputs": [
    {
     "name": "stdout",
     "output_type": "stream",
     "text": [
      "개발환경 구축하기 https://nomade.kr/vod/setup/\n",
      "파이썬 차근차근 시작하기 https://nomade.kr/vod/python/\n",
      "크롤링 차근차근 시작하기 https://nomade.kr/vod/crawling/\n",
      "파이썬으로 업무 자동화 https://nomade.kr/vod/automation/\n",
      "장고 - 기본편 https://nomade.kr/vod/django/\n",
      "장고걸스 튜토리얼 https://nomade.kr/vod/djangogirls/\n",
      "장고 - Form/ModelForm 잘 알고 쓰기 https://nomade.kr/vod/form/\n",
      "장고 - 클래스 기반 뷰. 잘 알고 쓰기 https://nomade.kr/vod/cbv/\n",
      "장고 - 결제 시스템 연동 https://nomade.kr/vod/payment/\n",
      "장고 - 웹 프론트엔드 시작편 https://nomade.kr/vod/frontend/\n",
      "장고 - 다양한 위젯 만들기 https://nomade.kr/vod/widgets/\n",
      "장고 - API 서버 만들기 및 초간단 안드로이드 앱 만들기 https://nomade.kr/vod/apiserver/\n",
      "장고 - 하이브리드 앱 만들기 https://nomade.kr/vod/hybrid/\n",
      "장고 - 서비스 배포하기 https://nomade.kr/vod/deploy/\n",
      "장고 - 실전편 (Feat. 배달의 민족 St. 만들기) https://nomade.kr/vod/django-baemin/\n",
      "장고 - 실전편 (Feat. 인스타그램 St. 만들기) https://nomade.kr/vod/django-instagram/\n"
     ]
    }
   ],
   "source": [
    "import re\n",
    "import requests\n",
    "import json\n",
    "\n",
    "url_3 = \"https://askdjango.github.io/lv3/\"\n",
    "status_3 = requests.get(url_3)\n",
    "status_3.status_code\n",
    "html_3 = requests.get(url_3).text\n",
    "matched_4 = re.search(r'var courses = (.+?);',html_3,re.S)\n",
    "json_string_3 = matched_4.group(1)\n",
    "\n",
    "course_list_3 = json.loads(json_string_3)\n",
    "for course in course_list_3:\n",
    "    print(course[\"name\"],course[\"url\"])"
   ]
  },
  {
   "cell_type": "code",
   "execution_count": null,
   "metadata": {
    "collapsed": true
   },
   "outputs": [],
   "source": []
  },
  {
   "cell_type": "code",
   "execution_count": null,
   "metadata": {
    "collapsed": true
   },
   "outputs": [],
   "source": []
  },
  {
   "cell_type": "code",
   "execution_count": null,
   "metadata": {
    "collapsed": true
   },
   "outputs": [],
   "source": []
  }
 ],
 "metadata": {
  "kernelspec": {
   "display_name": "Python 3",
   "language": "python",
   "name": "python3"
  },
  "language_info": {
   "codemirror_mode": {
    "name": "ipython",
    "version": 3
   },
   "file_extension": ".py",
   "mimetype": "text/x-python",
   "name": "python",
   "nbconvert_exporter": "python",
   "pygments_lexer": "ipython3",
   "version": "3.6.1"
  }
 },
 "nbformat": 4,
 "nbformat_minor": 2
}
