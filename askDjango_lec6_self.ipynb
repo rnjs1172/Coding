{
 "cells": [
  {
   "cell_type": "markdown",
   "metadata": {},
   "source": [
    "## LEVEL 1 단순 HTML 크롤링"
   ]
  },
  {
   "cell_type": "code",
   "execution_count": 17,
   "metadata": {
    "collapsed": true
   },
   "outputs": [],
   "source": [
    "import requests\n",
    "from bs4 import BeautifulSoup\n",
    "import pandas as pd"
   ]
  },
  {
   "cell_type": "code",
   "execution_count": 3,
   "metadata": {},
   "outputs": [
    {
     "data": {
      "text/plain": [
       "200"
      ]
     },
     "execution_count": 3,
     "metadata": {},
     "output_type": "execute_result"
    }
   ],
   "source": [
    "url_1 = \"https://askdjango.github.io/lv1/\"\n",
    "url_1_check = requests.get(url_1)\n",
    "url_1_check.status_code\n",
    "### status_code 가 400 이상이 나오면 문제가 있는 것이다."
   ]
  },
  {
   "cell_type": "code",
   "execution_count": 13,
   "metadata": {},
   "outputs": [
    {
     "data": {
      "text/plain": [
       "<!DOCTYPE doctype html>\n",
       "\n",
       "<html lang=\"ko\">\n",
       "<head>\n",
       "<meta charset=\"utf-8\"/>\n",
       "<title>[레벨1] 단순 HTML 크롤링</title>\n",
       "<style>\n",
       "#logo {\n",
       "    max-width: 100%;\n",
       "}\n",
       "</style>\n",
       "</head>\n",
       "<body>\n",
       "<h1>AskDjango VOD</h1>\n",
       "<h2>[레벨1] 단순 HTML 크롤링</h2>\n",
       "<p>본 HTML에 크롤링할 데이터가 있습니다.</p>\n",
       "<ul id=\"course_list\">\n",
       "<li class=\"course\"><a href=\"https://nomade.kr/vod/setup/\">개발환경 구축하기</a></li>\n",
       "<li class=\"course\"><a href=\"https://nomade.kr/vod/python/\">파이썬 차근차근 시작하기</a></li>\n",
       "<li class=\"course\"><a href=\"https://nomade.kr/vod/crawling/\">크롤링 차근차근 시작하기</a></li>\n",
       "<li class=\"course\"><a href=\"https://nomade.kr/vod/automation/\">파이썬으로 업무 자동화</a></li>\n",
       "<li class=\"course\"><a href=\"https://nomade.kr/vod/django/\">장고 - 기본편</a></li>\n",
       "<li class=\"course\"><a href=\"https://nomade.kr/vod/djangogirls/\">장고걸스 튜토리얼</a></li>\n",
       "<li class=\"course\"><a href=\"https://nomade.kr/vod/form/\">장고 - Form/ModelForm 잘 알고 쓰기</a></li>\n",
       "<li class=\"course\"><a href=\"https://nomade.kr/vod/cbv/\">장고 - 클래스 기반 뷰. 잘 알고 쓰기</a></li>\n",
       "<li class=\"course\"><a href=\"https://nomade.kr/vod/payment/\">장고 - 결제 시스템 연동</a></li>\n",
       "<li class=\"course\"><a href=\"https://nomade.kr/vod/frontend/\">장고 - 웹 프론트엔드 시작편</a></li>\n",
       "<li class=\"course\"><a href=\"https://nomade.kr/vod/widgets/\">장고 - 다양한 위젯 만들기</a></li>\n",
       "<li class=\"course\"><a href=\"https://nomade.kr/vod/apiserver/\">장고 - API 서버 만들기 및 초간단 안드로이드 앱 만들기</a></li>\n",
       "<li class=\"course\"><a href=\"https://nomade.kr/vod/hybrid/\">장고 - 하이브리드 앱 만들기</a></li>\n",
       "<li class=\"course\"><a href=\"https://nomade.kr/vod/deploy/\">장고 - 서비스 배포하기</a></li>\n",
       "<li class=\"course\"><a href=\"https://nomade.kr/vod/django-baemin/\">장고 - 실전편 (Feat. 배달의 민족 St. 만들기)</a></li>\n",
       "<li class=\"course\"><a href=\"https://nomade.kr/vod/django-instagram/\">장고 - 실전편 (Feat. 인스타그램 St. 만들기)</a></li>\n",
       "</ul>\n",
       "<img id=\"logo\" src=\"https://nomade.kr/static/2017031408/nomadekr-og.jpg\"/>\n",
       "<hr/>\n",
       "<h3>미션</h3>\n",
       "<ul>\n",
       "<li>위 VOD 코스의 코스명과 URL을 크롤링</li>\n",
       "<li>제약사항 : requests 라이브러리만을 사용하세요.</li>\n",
       "</ul>\n",
       "\n",
       "실행 예시\n",
       "\n",
       "<pre>\n",
       "    개발환경 구축하기 https://nomade.kr/vod/setup/\n",
       "    파이썬 차근차근 시작하기 https://nomade.kr/vod/python/\n",
       "    크롤링 차근차근 시작하기 https://nomade.kr/vod/crawling/\n",
       "    파이썬으로 업무 자동화 https://nomade.kr/vod/automation/\n",
       "    장고 - 기본편 https://nomade.kr/vod/django/\n",
       "    장고걸스 튜토리얼 https://nomade.kr/vod/djangogirls/\n",
       "    장고 - Form/ModelForm 잘 알고 쓰기 https://nomade.kr/vod/form/\n",
       "    장고 - 클래스 기반 뷰. 잘 알고 쓰기 https://nomade.kr/vod/cbv/\n",
       "    장고 - 결제 시스템 연동 https://nomade.kr/vod/payment/\n",
       "    장고 - 웹 프론트엔드 시작편 https://nomade.kr/vod/frontend/\n",
       "    장고 - 다양한 위젯 만들기 https://nomade.kr/vod/widgets/\n",
       "    장고 - API 서버 만들기 및 초간단 안드로이드 앱 만들기 https://nomade.kr/vod/apiserver/\n",
       "    장고 - 하이브리드 앱 만들기 https://nomade.kr/vod/hybrid/\n",
       "    장고 - 서비스 배포하기 https://nomade.kr/vod/deploy/\n",
       "    장고 - 실전편 (Feat. 배달의 민족 St. 만들기) https://nomade.kr/vod/django-baemin/\n",
       "    장고 - 실전편 (Feat. 인스타그램 St. 만들기) https://nomade.kr/vod/django-instagram/\n",
       "</pre>\n",
       "<p>AskDjango 크롤링 VOD를 통해 크롤링의 기본을 배우고, 꾸준히 크롤링을 연습해보세요.</p>\n",
       "<hr/>\n",
       "<p><a href=\"/\">home</a></p>\n",
       "<p>\n",
       "    여러분의 파이썬/장고 페이스메이커가 되겠습니다. &amp;dash; <a href=\"https://nomade.kr/vod/\">AskDjango VOD</a>\n",
       "</p>\n",
       "<p>\n",
       "    ©\n",
       "    <script>document.write((new Date()).getYear() + 1900);</script>\n",
       "    SHAKEADE\n",
       "</p>\n",
       "</body>\n",
       "</html>"
      ]
     },
     "execution_count": 13,
     "metadata": {},
     "output_type": "execute_result"
    }
   ],
   "source": [
    "html_1 = requests.get(url_1).text\n",
    "soup_1 = BeautifulSoup(html_1,\"html.parser\")\n",
    "soup_1"
   ]
  },
  {
   "cell_type": "code",
   "execution_count": 14,
   "metadata": {},
   "outputs": [
    {
     "name": "stdout",
     "output_type": "stream",
     "text": [
      "<li class=\"course\"><a href=\"https://nomade.kr/vod/setup/\">개발환경 구축하기</a></li>\n",
      "<li class=\"course\"><a href=\"https://nomade.kr/vod/python/\">파이썬 차근차근 시작하기</a></li>\n",
      "<li class=\"course\"><a href=\"https://nomade.kr/vod/crawling/\">크롤링 차근차근 시작하기</a></li>\n",
      "<li class=\"course\"><a href=\"https://nomade.kr/vod/automation/\">파이썬으로 업무 자동화</a></li>\n",
      "<li class=\"course\"><a href=\"https://nomade.kr/vod/django/\">장고 - 기본편</a></li>\n",
      "<li class=\"course\"><a href=\"https://nomade.kr/vod/djangogirls/\">장고걸스 튜토리얼</a></li>\n",
      "<li class=\"course\"><a href=\"https://nomade.kr/vod/form/\">장고 - Form/ModelForm 잘 알고 쓰기</a></li>\n",
      "<li class=\"course\"><a href=\"https://nomade.kr/vod/cbv/\">장고 - 클래스 기반 뷰. 잘 알고 쓰기</a></li>\n",
      "<li class=\"course\"><a href=\"https://nomade.kr/vod/payment/\">장고 - 결제 시스템 연동</a></li>\n",
      "<li class=\"course\"><a href=\"https://nomade.kr/vod/frontend/\">장고 - 웹 프론트엔드 시작편</a></li>\n",
      "<li class=\"course\"><a href=\"https://nomade.kr/vod/widgets/\">장고 - 다양한 위젯 만들기</a></li>\n",
      "<li class=\"course\"><a href=\"https://nomade.kr/vod/apiserver/\">장고 - API 서버 만들기 및 초간단 안드로이드 앱 만들기</a></li>\n",
      "<li class=\"course\"><a href=\"https://nomade.kr/vod/hybrid/\">장고 - 하이브리드 앱 만들기</a></li>\n",
      "<li class=\"course\"><a href=\"https://nomade.kr/vod/deploy/\">장고 - 서비스 배포하기</a></li>\n",
      "<li class=\"course\"><a href=\"https://nomade.kr/vod/django-baemin/\">장고 - 실전편 (Feat. 배달의 민족 St. 만들기)</a></li>\n",
      "<li class=\"course\"><a href=\"https://nomade.kr/vod/django-instagram/\">장고 - 실전편 (Feat. 인스타그램 St. 만들기)</a></li>\n"
     ]
    }
   ],
   "source": [
    "text_1 = []\n",
    "for tag in soup_1.select(\"#course_list > .course\"):\n",
    "        text_1.append(tag.text)\n",
    "        print(tag)"
   ]
  },
  {
   "cell_type": "code",
   "execution_count": 10,
   "metadata": {},
   "outputs": [
    {
     "data": {
      "text/plain": [
       "['개발환경 구축하기',\n",
       " '파이썬 차근차근 시작하기',\n",
       " '크롤링 차근차근 시작하기',\n",
       " '파이썬으로 업무 자동화',\n",
       " '장고 - 기본편',\n",
       " '장고걸스 튜토리얼',\n",
       " '장고 - Form/ModelForm 잘 알고 쓰기',\n",
       " '장고 - 클래스 기반 뷰. 잘 알고 쓰기',\n",
       " '장고 - 결제 시스템 연동',\n",
       " '장고 - 웹 프론트엔드 시작편',\n",
       " '장고 - 다양한 위젯 만들기',\n",
       " '장고 - API 서버 만들기 및 초간단 안드로이드 앱 만들기',\n",
       " '장고 - 하이브리드 앱 만들기',\n",
       " '장고 - 서비스 배포하기',\n",
       " '장고 - 실전편 (Feat. 배달의 민족 St. 만들기)',\n",
       " '장고 - 실전편 (Feat. 인스타그램 St. 만들기)']"
      ]
     },
     "execution_count": 10,
     "metadata": {},
     "output_type": "execute_result"
    }
   ],
   "source": [
    "text_1"
   ]
  },
  {
   "cell_type": "code",
   "execution_count": 15,
   "metadata": {},
   "outputs": [
    {
     "name": "stdout",
     "output_type": "stream",
     "text": [
      "<a href=\"https://nomade.kr/vod/setup/\">개발환경 구축하기</a>\n",
      "<a href=\"https://nomade.kr/vod/python/\">파이썬 차근차근 시작하기</a>\n",
      "<a href=\"https://nomade.kr/vod/crawling/\">크롤링 차근차근 시작하기</a>\n",
      "<a href=\"https://nomade.kr/vod/automation/\">파이썬으로 업무 자동화</a>\n",
      "<a href=\"https://nomade.kr/vod/django/\">장고 - 기본편</a>\n",
      "<a href=\"https://nomade.kr/vod/djangogirls/\">장고걸스 튜토리얼</a>\n",
      "<a href=\"https://nomade.kr/vod/form/\">장고 - Form/ModelForm 잘 알고 쓰기</a>\n",
      "<a href=\"https://nomade.kr/vod/cbv/\">장고 - 클래스 기반 뷰. 잘 알고 쓰기</a>\n",
      "<a href=\"https://nomade.kr/vod/payment/\">장고 - 결제 시스템 연동</a>\n",
      "<a href=\"https://nomade.kr/vod/frontend/\">장고 - 웹 프론트엔드 시작편</a>\n",
      "<a href=\"https://nomade.kr/vod/widgets/\">장고 - 다양한 위젯 만들기</a>\n",
      "<a href=\"https://nomade.kr/vod/apiserver/\">장고 - API 서버 만들기 및 초간단 안드로이드 앱 만들기</a>\n",
      "<a href=\"https://nomade.kr/vod/hybrid/\">장고 - 하이브리드 앱 만들기</a>\n",
      "<a href=\"https://nomade.kr/vod/deploy/\">장고 - 서비스 배포하기</a>\n",
      "<a href=\"https://nomade.kr/vod/django-baemin/\">장고 - 실전편 (Feat. 배달의 민족 St. 만들기)</a>\n",
      "<a href=\"https://nomade.kr/vod/django-instagram/\">장고 - 실전편 (Feat. 인스타그램 St. 만들기)</a>\n"
     ]
    }
   ],
   "source": [
    "## 보면 정보는 실제로 a태그 및에 존재한다. 하지만 위에서 a태그의 상당넹 적어도 큰 문제가 없었다.\n",
    "## 이번에는 a 태그 까지 적어보고 차이를 비교해보자.\n",
    "\n",
    "text_2 = []\n",
    "for tag in soup_1.select(\"#course_list > .course a\"):\n",
    "        text_2.append(tag.text)\n",
    "        print(tag)\n",
    "## 차이가 없다. 그이유가 뭐지?"
   ]
  },
  {
   "cell_type": "code",
   "execution_count": 16,
   "metadata": {},
   "outputs": [
    {
     "data": {
      "text/plain": [
       "['개발환경 구축하기',\n",
       " '파이썬 차근차근 시작하기',\n",
       " '크롤링 차근차근 시작하기',\n",
       " '파이썬으로 업무 자동화',\n",
       " '장고 - 기본편',\n",
       " '장고걸스 튜토리얼',\n",
       " '장고 - Form/ModelForm 잘 알고 쓰기',\n",
       " '장고 - 클래스 기반 뷰. 잘 알고 쓰기',\n",
       " '장고 - 결제 시스템 연동',\n",
       " '장고 - 웹 프론트엔드 시작편',\n",
       " '장고 - 다양한 위젯 만들기',\n",
       " '장고 - API 서버 만들기 및 초간단 안드로이드 앱 만들기',\n",
       " '장고 - 하이브리드 앱 만들기',\n",
       " '장고 - 서비스 배포하기',\n",
       " '장고 - 실전편 (Feat. 배달의 민족 St. 만들기)',\n",
       " '장고 - 실전편 (Feat. 인스타그램 St. 만들기)']"
      ]
     },
     "execution_count": 16,
     "metadata": {},
     "output_type": "execute_result"
    }
   ],
   "source": [
    "text_2"
   ]
  },
  {
   "cell_type": "code",
   "execution_count": 32,
   "metadata": {},
   "outputs": [],
   "source": [
    "##### 연습삼아 위에 것을 dataframe 화를 진행한다.\n",
    "dataframe_1 = []\n",
    "for tag in soup_1.select(\"#course_list .course a\"):\n",
    "    list = []\n",
    "    list.append(tag.text)\n",
    "    list.append(tag[\"href\"])\n",
    "    dataframe_1.append(list)\n"
   ]
  },
  {
   "cell_type": "code",
   "execution_count": 33,
   "metadata": {},
   "outputs": [],
   "source": [
    "DataFrame_1 = pd.DataFrame(dataframe_1)"
   ]
  },
  {
   "cell_type": "code",
   "execution_count": 34,
   "metadata": {},
   "outputs": [
    {
     "data": {
      "text/html": [
       "<div>\n",
       "<style>\n",
       "    .dataframe thead tr:only-child th {\n",
       "        text-align: right;\n",
       "    }\n",
       "\n",
       "    .dataframe thead th {\n",
       "        text-align: left;\n",
       "    }\n",
       "\n",
       "    .dataframe tbody tr th {\n",
       "        vertical-align: top;\n",
       "    }\n",
       "</style>\n",
       "<table border=\"1\" class=\"dataframe\">\n",
       "  <thead>\n",
       "    <tr style=\"text-align: right;\">\n",
       "      <th></th>\n",
       "      <th>0</th>\n",
       "      <th>1</th>\n",
       "    </tr>\n",
       "  </thead>\n",
       "  <tbody>\n",
       "    <tr>\n",
       "      <th>0</th>\n",
       "      <td>개발환경 구축하기</td>\n",
       "      <td>https://nomade.kr/vod/setup/</td>\n",
       "    </tr>\n",
       "    <tr>\n",
       "      <th>1</th>\n",
       "      <td>파이썬 차근차근 시작하기</td>\n",
       "      <td>https://nomade.kr/vod/python/</td>\n",
       "    </tr>\n",
       "    <tr>\n",
       "      <th>2</th>\n",
       "      <td>크롤링 차근차근 시작하기</td>\n",
       "      <td>https://nomade.kr/vod/crawling/</td>\n",
       "    </tr>\n",
       "    <tr>\n",
       "      <th>3</th>\n",
       "      <td>파이썬으로 업무 자동화</td>\n",
       "      <td>https://nomade.kr/vod/automation/</td>\n",
       "    </tr>\n",
       "    <tr>\n",
       "      <th>4</th>\n",
       "      <td>장고 - 기본편</td>\n",
       "      <td>https://nomade.kr/vod/django/</td>\n",
       "    </tr>\n",
       "    <tr>\n",
       "      <th>5</th>\n",
       "      <td>장고걸스 튜토리얼</td>\n",
       "      <td>https://nomade.kr/vod/djangogirls/</td>\n",
       "    </tr>\n",
       "    <tr>\n",
       "      <th>6</th>\n",
       "      <td>장고 - Form/ModelForm 잘 알고 쓰기</td>\n",
       "      <td>https://nomade.kr/vod/form/</td>\n",
       "    </tr>\n",
       "    <tr>\n",
       "      <th>7</th>\n",
       "      <td>장고 - 클래스 기반 뷰. 잘 알고 쓰기</td>\n",
       "      <td>https://nomade.kr/vod/cbv/</td>\n",
       "    </tr>\n",
       "    <tr>\n",
       "      <th>8</th>\n",
       "      <td>장고 - 결제 시스템 연동</td>\n",
       "      <td>https://nomade.kr/vod/payment/</td>\n",
       "    </tr>\n",
       "    <tr>\n",
       "      <th>9</th>\n",
       "      <td>장고 - 웹 프론트엔드 시작편</td>\n",
       "      <td>https://nomade.kr/vod/frontend/</td>\n",
       "    </tr>\n",
       "    <tr>\n",
       "      <th>10</th>\n",
       "      <td>장고 - 다양한 위젯 만들기</td>\n",
       "      <td>https://nomade.kr/vod/widgets/</td>\n",
       "    </tr>\n",
       "    <tr>\n",
       "      <th>11</th>\n",
       "      <td>장고 - API 서버 만들기 및 초간단 안드로이드 앱 만들기</td>\n",
       "      <td>https://nomade.kr/vod/apiserver/</td>\n",
       "    </tr>\n",
       "    <tr>\n",
       "      <th>12</th>\n",
       "      <td>장고 - 하이브리드 앱 만들기</td>\n",
       "      <td>https://nomade.kr/vod/hybrid/</td>\n",
       "    </tr>\n",
       "    <tr>\n",
       "      <th>13</th>\n",
       "      <td>장고 - 서비스 배포하기</td>\n",
       "      <td>https://nomade.kr/vod/deploy/</td>\n",
       "    </tr>\n",
       "    <tr>\n",
       "      <th>14</th>\n",
       "      <td>장고 - 실전편 (Feat. 배달의 민족 St. 만들기)</td>\n",
       "      <td>https://nomade.kr/vod/django-baemin/</td>\n",
       "    </tr>\n",
       "    <tr>\n",
       "      <th>15</th>\n",
       "      <td>장고 - 실전편 (Feat. 인스타그램 St. 만들기)</td>\n",
       "      <td>https://nomade.kr/vod/django-instagram/</td>\n",
       "    </tr>\n",
       "  </tbody>\n",
       "</table>\n",
       "</div>"
      ],
      "text/plain": [
       "                                    0                                        1\n",
       "0                           개발환경 구축하기             https://nomade.kr/vod/setup/\n",
       "1                       파이썬 차근차근 시작하기            https://nomade.kr/vod/python/\n",
       "2                       크롤링 차근차근 시작하기          https://nomade.kr/vod/crawling/\n",
       "3                        파이썬으로 업무 자동화        https://nomade.kr/vod/automation/\n",
       "4                            장고 - 기본편            https://nomade.kr/vod/django/\n",
       "5                           장고걸스 튜토리얼       https://nomade.kr/vod/djangogirls/\n",
       "6         장고 - Form/ModelForm 잘 알고 쓰기              https://nomade.kr/vod/form/\n",
       "7              장고 - 클래스 기반 뷰. 잘 알고 쓰기               https://nomade.kr/vod/cbv/\n",
       "8                      장고 - 결제 시스템 연동           https://nomade.kr/vod/payment/\n",
       "9                    장고 - 웹 프론트엔드 시작편          https://nomade.kr/vod/frontend/\n",
       "10                    장고 - 다양한 위젯 만들기           https://nomade.kr/vod/widgets/\n",
       "11  장고 - API 서버 만들기 및 초간단 안드로이드 앱 만들기         https://nomade.kr/vod/apiserver/\n",
       "12                   장고 - 하이브리드 앱 만들기            https://nomade.kr/vod/hybrid/\n",
       "13                      장고 - 서비스 배포하기            https://nomade.kr/vod/deploy/\n",
       "14    장고 - 실전편 (Feat. 배달의 민족 St. 만들기)     https://nomade.kr/vod/django-baemin/\n",
       "15     장고 - 실전편 (Feat. 인스타그램 St. 만들기)  https://nomade.kr/vod/django-instagram/"
      ]
     },
     "execution_count": 34,
     "metadata": {},
     "output_type": "execute_result"
    }
   ],
   "source": [
    "DataFrame_1"
   ]
  },
  {
   "cell_type": "code",
   "execution_count": null,
   "metadata": {
    "collapsed": true
   },
   "outputs": [],
   "source": []
  }
 ],
 "metadata": {
  "kernelspec": {
   "display_name": "Python 3",
   "language": "python",
   "name": "python3"
  },
  "language_info": {
   "codemirror_mode": {
    "name": "ipython",
    "version": 3
   },
   "file_extension": ".py",
   "mimetype": "text/x-python",
   "name": "python",
   "nbconvert_exporter": "python",
   "pygments_lexer": "ipython3",
   "version": "3.6.1"
  }
 },
 "nbformat": 4,
 "nbformat_minor": 2
}
